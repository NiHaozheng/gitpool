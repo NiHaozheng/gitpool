{
 "cells": [
  {
   "cell_type": "code",
   "execution_count": 11,
   "metadata": {
    "collapsed": false
   },
   "outputs": [
    {
     "data": {
      "text/html": [
       "<script>requirejs.config({paths: { 'plotly': ['https://cdn.plot.ly/plotly-latest.min']},});if(!window.Plotly) {{require(['plotly'],function(plotly) {window.Plotly=plotly;});}}</script>"
      ],
      "text/plain": [
       "<IPython.core.display.HTML object>"
      ]
     },
     "metadata": {},
     "output_type": "display_data"
    }
   ],
   "source": [
    "import plotly.plotly as py\n",
    "import plotly.graph_objs as go\n",
    "\n",
    "from plotly.offline import download_plotlyjs, init_notebook_mode, iplot\n",
    "init_notebook_mode(connected=True)\n",
    " \n",
    "from __future__ import division\n",
    " \n",
    "# campaign dataset file\n",
    "import pandas as pd\n",
    "df = pd.read_csv('data.csv')\n",
    " \n",
    "# color for each segment\n",
    "colors = ['rgb(63,92,128)', 'rgb(90,131,182)', 'rgb(255,255,255)', 'rgb(127,127,127)', 'rgb(84,73,75)']"
   ]
  },
  {
   "cell_type": "code",
   "execution_count": 2,
   "metadata": {
    "collapsed": true
   },
   "outputs": [],
   "source": [
    "total = [sum(row[1]) for row in df.iterrows()]"
   ]
  },
  {
   "cell_type": "code",
   "execution_count": 3,
   "metadata": {
    "collapsed": true
   },
   "outputs": [],
   "source": [
    "n_phase, n_seg = df.shape"
   ]
  },
  {
   "cell_type": "code",
   "execution_count": 4,
   "metadata": {
    "collapsed": true
   },
   "outputs": [],
   "source": [
    "plot_width = 600\n",
    "unit_width = plot_width / total[0]\n",
    " \n",
    "phase_w = [int(value * unit_width) for value in total]\n",
    " \n",
    "# height of a section and difference between sections \n",
    "section_h = 100\n",
    "section_d = 10"
   ]
  },
  {
   "cell_type": "code",
   "execution_count": 5,
   "metadata": {
    "collapsed": true
   },
   "outputs": [],
   "source": [
    "# shapes of the plot\n",
    "shapes = []\n",
    " \n",
    "# plot traces data\n",
    "data = []\n",
    " \n",
    "# height of the phase labels\n",
    "label_y = []"
   ]
  },
  {
   "cell_type": "code",
   "execution_count": 6,
   "metadata": {
    "collapsed": true
   },
   "outputs": [],
   "source": [
    "height = section_h * n_phase + section_d * (n_phase-1)\n",
    " \n",
    "# rows of the DataFrame\n",
    "df_rows = list(df.iterrows())\n",
    " \n",
    "# iteration over all the phases\n",
    "for i in range(n_phase):\n",
    "    # phase name\n",
    "    row_name = df.index[i]\n",
    "    \n",
    "    # width of each segment (smaller rectangles) will be calculated\n",
    "    # according to their contribution in the total users of phase\n",
    "    seg_unit_width = phase_w[i] / total[i]\n",
    "    seg_w = [int(df_rows[i][1][j] * seg_unit_width) for j in range(n_seg)]\n",
    "    \n",
    "    # starting point of segment (the rectangle shape) on the X-axis\n",
    "    xl = -1 * (phase_w[i] / 2)\n",
    "    \n",
    "    # iteration over all the segments\n",
    "    for j in range(n_seg):\n",
    "        # name of the segment\n",
    "        seg_name = df.columns[j]\n",
    "        \n",
    "        # corner points of a segment used in the SVG path\n",
    "        points = [xl, height, xl + seg_w[j], height, xl + seg_w[j], height - section_h, xl, height - section_h]\n",
    "        path = 'M {0} {1} L {2} {3} L {4} {5} L {6} {7} Z'.format(*points)\n",
    "        \n",
    "        shape = {\n",
    "                'type': 'path',\n",
    "                'path': path,\n",
    "                'fillcolor': colors[j],\n",
    "                'line': {\n",
    "                    'width': 1,\n",
    "                    'color': colors[j]\n",
    "                }\n",
    "        }\n",
    "        shapes.append(shape)\n",
    "        \n",
    "        # to support hover on shapes\n",
    "        hover_trace = go.Scatter(\n",
    "            x=[xl + (seg_w[j] / 2)],\n",
    "            y=[height - (section_h / 2)],\n",
    "            mode='markers',\n",
    "            marker=dict(\n",
    "                size=min(seg_w[j]/2, (section_h / 2)),\n",
    "                color='rgba(255,255,255,1)'\n",
    "            ),\n",
    "            name=\"%s (%d)\" % (seg_name, df[seg_name][row_name])\n",
    "        )\n",
    "        data.append(hover_trace)\n",
    "        \n",
    "        xl = xl + seg_w[j]\n",
    " \n",
    "    label_y.append(height - (section_h / 2))\n",
    " \n",
    "    height = height - (section_h + section_d)"
   ]
  },
  {
   "cell_type": "code",
   "execution_count": 7,
   "metadata": {
    "collapsed": true
   },
   "outputs": [],
   "source": [
    "# For phase names\n",
    "label_trace = go.Scatter(\n",
    "    x=[-350]*n_phase,\n",
    "    y=label_y,\n",
    "    mode='text',\n",
    "    text=df.index.tolist(),\n",
    "    textfont=dict(\n",
    "        color='rgb(200,200,200)',\n",
    "        size=15\n",
    "    )\n",
    ")\n",
    " \n",
    "data.append(label_trace)\n",
    " \n",
    "# For phase values (total)\n",
    "value_trace = go.Scatter(\n",
    "    x=[350]*n_phase,\n",
    "    y=label_y,\n",
    "    mode='text',\n",
    "    text=total,\n",
    "    textfont=dict(\n",
    "        color='rgb(200,200,200)',\n",
    "        size=15\n",
    "    )\n",
    ")\n",
    " \n",
    "data.append(value_trace)"
   ]
  },
  {
   "cell_type": "code",
   "execution_count": 10,
   "metadata": {
    "collapsed": false
   },
   "outputs": [
    {
     "data": {
      "text/html": [
       "<div id=\"bf031a96-01aa-46ff-bc6f-0c3f70686e9f\" style=\"height: 525px; width: 100%;\" class=\"plotly-graph-div\"></div><script type=\"text/javascript\">require([\"plotly\"], function(Plotly) { window.PLOTLYENV=window.PLOTLYENV || {};window.PLOTLYENV.BASE_URL=\"https://plot.ly\";Plotly.newPlot(\"bf031a96-01aa-46ff-bc6f-0c3f70686e9f\", [{\"name\": \"Ad (9806)\", \"marker\": {\"color\": \"rgba(255,255,255,1)\", \"size\": 50.0}, \"mode\": \"markers\", \"y\": [380.0], \"x\": [-248.0], \"type\": \"scatter\"}, {\"name\": \"Media (13104)\", \"marker\": {\"color\": \"rgba(255,255,255,1)\", \"size\": 50.0}, \"mode\": \"markers\", \"y\": [380.0], \"x\": [-126.5], \"type\": \"scatter\"}, {\"name\": \"Affiliates (6505)\", \"marker\": {\"color\": \"rgba(255,255,255,1)\", \"size\": 34.5}, \"mode\": \"markers\", \"y\": [380.0], \"x\": [-22.5], \"type\": \"scatter\"}, {\"name\": \"Referrals (2517)\", \"marker\": {\"color\": \"rgba(255,255,255,1)\", \"size\": 13.0}, \"mode\": \"markers\", \"y\": [380.0], \"x\": [25.0], \"type\": \"scatter\"}, {\"name\": \"Direct (24321)\", \"marker\": {\"color\": \"rgba(255,255,255,1)\", \"size\": 50.0}, \"mode\": \"markers\", \"y\": [380.0], \"x\": [167.5], \"type\": \"scatter\"}, {\"name\": \"Ad (3065)\", \"marker\": {\"color\": \"rgba(255,255,255,1)\", \"size\": 16.0}, \"mode\": \"markers\", \"y\": [270.0], \"x\": [-119.0], \"type\": \"scatter\"}, {\"name\": \"Media (6096)\", \"marker\": {\"color\": \"rgba(255,255,255,1)\", \"size\": 32.0}, \"mode\": \"markers\", \"y\": [270.0], \"x\": [-71.0], \"type\": \"scatter\"}, {\"name\": \"Affiliates (3011)\", \"marker\": {\"color\": \"rgba(255,255,255,1)\", \"size\": 16.0}, \"mode\": \"markers\", \"y\": [270.0], \"x\": [-23.0], \"type\": \"scatter\"}, {\"name\": \"Referrals (1710)\", \"marker\": {\"color\": \"rgba(255,255,255,1)\", \"size\": 9.0}, \"mode\": \"markers\", \"y\": [270.0], \"x\": [2.0], \"type\": \"scatter\"}, {\"name\": \"Direct (11453)\", \"marker\": {\"color\": \"rgba(255,255,255,1)\", \"size\": 50.0}, \"mode\": \"markers\", \"y\": [270.0], \"x\": [72.0], \"type\": \"scatter\"}, {\"name\": \"Ad (1765)\", \"marker\": {\"color\": \"rgba(255,255,255,1)\", \"size\": 9.0}, \"mode\": \"markers\", \"y\": [160.0], \"x\": [-85.5], \"type\": \"scatter\"}, {\"name\": \"Media (3592)\", \"marker\": {\"color\": \"rgba(255,255,255,1)\", \"size\": 19.0}, \"mode\": \"markers\", \"y\": [160.0], \"x\": [-57.5], \"type\": \"scatter\"}, {\"name\": \"Affiliates (2234)\", \"marker\": {\"color\": \"rgba(255,255,255,1)\", \"size\": 11.5}, \"mode\": \"markers\", \"y\": [160.0], \"x\": [-27.0], \"type\": \"scatter\"}, {\"name\": \"Referrals (1555)\", \"marker\": {\"color\": \"rgba(255,255,255,1)\", \"size\": 8.0}, \"mode\": \"markers\", \"y\": [160.0], \"x\": [-7.5], \"type\": \"scatter\"}, {\"name\": \"Direct (8603)\", \"marker\": {\"color\": \"rgba(255,255,255,1)\", \"size\": 45.5}, \"mode\": \"markers\", \"y\": [160.0], \"x\": [46.0], \"type\": \"scatter\"}, {\"name\": \"Ad (1507)\", \"marker\": {\"color\": \"rgba(255,255,255,1)\", \"size\": 8.0}, \"mode\": \"markers\", \"y\": [50.0], \"x\": [-57.5], \"type\": \"scatter\"}, {\"name\": \"Media (2403)\", \"marker\": {\"color\": \"rgba(255,255,255,1)\", \"size\": 12.5}, \"mode\": \"markers\", \"y\": [50.0], \"x\": [-37.0], \"type\": \"scatter\"}, {\"name\": \"Affiliates (1610)\", \"marker\": {\"color\": \"rgba(255,255,255,1)\", \"size\": 8.5}, \"mode\": \"markers\", \"y\": [50.0], \"x\": [-16.0], \"type\": \"scatter\"}, {\"name\": \"Referrals (1005)\", \"marker\": {\"color\": \"rgba(255,255,255,1)\", \"size\": 5.0}, \"mode\": \"markers\", \"y\": [50.0], \"x\": [-2.5], \"type\": \"scatter\"}, {\"name\": \"Direct (5798)\", \"marker\": {\"color\": \"rgba(255,255,255,1)\", \"size\": 30.5}, \"mode\": \"markers\", \"y\": [50.0], \"x\": [33.0], \"type\": \"scatter\"}, {\"textfont\": {\"color\": \"rgb(200,200,200)\", \"size\": 15}, \"text\": [\"Visit\", \"Sign-up\", \"Selection\", \"Purchase\"], \"mode\": \"text\", \"y\": [380.0, 270.0, 160.0, 50.0], \"x\": [-350, -350, -350, -350], \"type\": \"scatter\"}, {\"textfont\": {\"color\": \"rgb(200,200,200)\", \"size\": 15}, \"text\": [56253, 25335, 17749, 12323], \"mode\": \"text\", \"y\": [380.0, 270.0, 160.0, 50.0], \"x\": [350, 350, 350, 350], \"type\": \"scatter\"}], {\"showlegend\": false, \"yaxis\": {\"zeroline\": false, \"showticklabels\": false}, \"paper_bgcolor\": \"rgba(44,58,71,1)\", \"plot_bgcolor\": \"rgba(44,58,71,1)\", \"title\": \"<b>Segmented Funnel Chart</b>\", \"shapes\": [{\"path\": \"M -300.0 430 L -196.0 430 L -196.0 330 L -300.0 330 Z\", \"line\": {\"color\": \"rgb(63,92,128)\", \"width\": 1}, \"type\": \"path\", \"fillcolor\": \"rgb(63,92,128)\"}, {\"path\": \"M -196.0 430 L -57.0 430 L -57.0 330 L -196.0 330 Z\", \"line\": {\"color\": \"rgb(90,131,182)\", \"width\": 1}, \"type\": \"path\", \"fillcolor\": \"rgb(90,131,182)\"}, {\"path\": \"M -57.0 430 L 12.0 430 L 12.0 330 L -57.0 330 Z\", \"line\": {\"color\": \"rgb(255,255,255)\", \"width\": 1}, \"type\": \"path\", \"fillcolor\": \"rgb(255,255,255)\"}, {\"path\": \"M 12.0 430 L 38.0 430 L 38.0 330 L 12.0 330 Z\", \"line\": {\"color\": \"rgb(127,127,127)\", \"width\": 1}, \"type\": \"path\", \"fillcolor\": \"rgb(127,127,127)\"}, {\"path\": \"M 38.0 430 L 297.0 430 L 297.0 330 L 38.0 330 Z\", \"line\": {\"color\": \"rgb(84,73,75)\", \"width\": 1}, \"type\": \"path\", \"fillcolor\": \"rgb(84,73,75)\"}, {\"path\": \"M -135.0 320 L -103.0 320 L -103.0 220 L -135.0 220 Z\", \"line\": {\"color\": \"rgb(63,92,128)\", \"width\": 1}, \"type\": \"path\", \"fillcolor\": \"rgb(63,92,128)\"}, {\"path\": \"M -103.0 320 L -39.0 320 L -39.0 220 L -103.0 220 Z\", \"line\": {\"color\": \"rgb(90,131,182)\", \"width\": 1}, \"type\": \"path\", \"fillcolor\": \"rgb(90,131,182)\"}, {\"path\": \"M -39.0 320 L -7.0 320 L -7.0 220 L -39.0 220 Z\", \"line\": {\"color\": \"rgb(255,255,255)\", \"width\": 1}, \"type\": \"path\", \"fillcolor\": \"rgb(255,255,255)\"}, {\"path\": \"M -7.0 320 L 11.0 320 L 11.0 220 L -7.0 220 Z\", \"line\": {\"color\": \"rgb(127,127,127)\", \"width\": 1}, \"type\": \"path\", \"fillcolor\": \"rgb(127,127,127)\"}, {\"path\": \"M 11.0 320 L 133.0 320 L 133.0 220 L 11.0 220 Z\", \"line\": {\"color\": \"rgb(84,73,75)\", \"width\": 1}, \"type\": \"path\", \"fillcolor\": \"rgb(84,73,75)\"}, {\"path\": \"M -94.5 210 L -76.5 210 L -76.5 110 L -94.5 110 Z\", \"line\": {\"color\": \"rgb(63,92,128)\", \"width\": 1}, \"type\": \"path\", \"fillcolor\": \"rgb(63,92,128)\"}, {\"path\": \"M -76.5 210 L -38.5 210 L -38.5 110 L -76.5 110 Z\", \"line\": {\"color\": \"rgb(90,131,182)\", \"width\": 1}, \"type\": \"path\", \"fillcolor\": \"rgb(90,131,182)\"}, {\"path\": \"M -38.5 210 L -15.5 210 L -15.5 110 L -38.5 110 Z\", \"line\": {\"color\": \"rgb(255,255,255)\", \"width\": 1}, \"type\": \"path\", \"fillcolor\": \"rgb(255,255,255)\"}, {\"path\": \"M -15.5 210 L 0.5 210 L 0.5 110 L -15.5 110 Z\", \"line\": {\"color\": \"rgb(127,127,127)\", \"width\": 1}, \"type\": \"path\", \"fillcolor\": \"rgb(127,127,127)\"}, {\"path\": \"M 0.5 210 L 91.5 210 L 91.5 110 L 0.5 110 Z\", \"line\": {\"color\": \"rgb(84,73,75)\", \"width\": 1}, \"type\": \"path\", \"fillcolor\": \"rgb(84,73,75)\"}, {\"path\": \"M -65.5 100 L -49.5 100 L -49.5 0 L -65.5 0 Z\", \"line\": {\"color\": \"rgb(63,92,128)\", \"width\": 1}, \"type\": \"path\", \"fillcolor\": \"rgb(63,92,128)\"}, {\"path\": \"M -49.5 100 L -24.5 100 L -24.5 0 L -49.5 0 Z\", \"line\": {\"color\": \"rgb(90,131,182)\", \"width\": 1}, \"type\": \"path\", \"fillcolor\": \"rgb(90,131,182)\"}, {\"path\": \"M -24.5 100 L -7.5 100 L -7.5 0 L -24.5 0 Z\", \"line\": {\"color\": \"rgb(255,255,255)\", \"width\": 1}, \"type\": \"path\", \"fillcolor\": \"rgb(255,255,255)\"}, {\"path\": \"M -7.5 100 L 2.5 100 L 2.5 0 L -7.5 0 Z\", \"line\": {\"color\": \"rgb(127,127,127)\", \"width\": 1}, \"type\": \"path\", \"fillcolor\": \"rgb(127,127,127)\"}, {\"path\": \"M 2.5 100 L 63.5 100 L 63.5 0 L 2.5 0 Z\", \"line\": {\"color\": \"rgb(84,73,75)\", \"width\": 1}, \"type\": \"path\", \"fillcolor\": \"rgb(84,73,75)\"}], \"titlefont\": {\"color\": \"rgb(230,230,230)\", \"size\": 20}, \"xaxis\": {\"zeroline\": false, \"showticklabels\": false}, \"hovermode\": \"closest\"}, {\"linkText\": \"Export to plot.ly\", \"showLink\": true})});</script>"
      ],
      "text/plain": [
       "<IPython.core.display.HTML object>"
      ]
     },
     "metadata": {},
     "output_type": "display_data"
    }
   ],
   "source": [
    "layout = go.Layout(\n",
    "    title=\"<b>Segmented Funnel Chart</b>\",\n",
    "    titlefont=dict(\n",
    "        size=20,\n",
    "        color='rgb(230,230,230)'\n",
    "    ),\n",
    "    hovermode='closest',\n",
    "    shapes=shapes,\n",
    "    showlegend=False,\n",
    "    paper_bgcolor='rgba(44,58,71,1)',\n",
    "    plot_bgcolor='rgba(44,58,71,1)',\n",
    "    xaxis=dict(\n",
    "        showticklabels=False,\n",
    "        zeroline=False,\n",
    "    ),\n",
    "    yaxis=dict(\n",
    "        showticklabels=False,\n",
    "        zeroline=False\n",
    "    )\n",
    ")\n",
    " \n",
    "fig = go.Figure(data=data, layout=layout)\n",
    "iplot(fig)"
   ]
  },
  {
   "cell_type": "code",
   "execution_count": null,
   "metadata": {
    "collapsed": true
   },
   "outputs": [],
   "source": []
  }
 ],
 "metadata": {
  "kernelspec": {
   "display_name": "Python 2",
   "language": "python",
   "name": "python2"
  },
  "language_info": {
   "codemirror_mode": {
    "name": "ipython",
    "version": 2
   },
   "file_extension": ".py",
   "mimetype": "text/x-python",
   "name": "python",
   "nbconvert_exporter": "python",
   "pygments_lexer": "ipython2",
   "version": "2.7.6"
  }
 },
 "nbformat": 4,
 "nbformat_minor": 0
}
