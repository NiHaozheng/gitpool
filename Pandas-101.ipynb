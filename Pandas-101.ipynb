{
 "cells": [
  {
   "cell_type": "markdown",
   "metadata": {},
   "source": [
    "### Pandas 101\n",
    "In this notebook we will learn about Pandas, the Python data analysis tools, to manipulate and analyse data."
   ]
  },
  {
   "cell_type": "markdown",
   "metadata": {},
   "source": [
    "### 1. Installation"
   ]
  },
  {
   "cell_type": "markdown",
   "metadata": {},
   "source": [
    "Pandas support Python's versions 2.7, 3.4, and 3.5.\n",
    "\n",
    "Python will be required here. You can install it from the [source releases](https://www.python.org/downloads/) if you don't have it.\n",
    "\n",
    "Python covers the download facility for multiple operating systems like [Windows](https://www.python.org/downloads/windows/), [UNIX](https://www.python.org/downloads/source/), [OS X](https://www.python.org/downloads/mac-osx/), and [others](https://www.python.org/download/other/)."
   ]
  },
  {
   "cell_type": "markdown",
   "metadata": {},
   "source": [
    "#### 1.1 PyPI Installation"
   ]
  },
  {
   "cell_type": "markdown",
   "metadata": {},
   "source": [
    "```bash\n",
    "$ sudo pip install pandas\n",
    "```\n",
    "\n",
    "This will automatically download all the dependencies, but it will take some time in the process."
   ]
  },
  {
   "cell_type": "markdown",
   "metadata": {},
   "source": [
    "#### 1.2 Linux Distribution Installation"
   ]
  },
  {
   "cell_type": "markdown",
   "metadata": {},
   "source": [
    "This commands will install Pandas for Python 2 from your distribution.\n",
    "\n",
    "To install it for Python 3, you should use \"*python3-pandas*\" instead."
   ]
  },
  {
   "cell_type": "markdown",
   "metadata": {},
   "source": [
    "* **Ubuntu & Debian**"
   ]
  },
  {
   "cell_type": "markdown",
   "metadata": {},
   "source": [
    "```bash\n",
    "$ sudo apt-get install python-pandas\n",
    "```"
   ]
  },
  {
   "cell_type": "markdown",
   "metadata": {},
   "source": [
    "* **Fedora & OpenSuse**"
   ]
  },
  {
   "cell_type": "markdown",
   "metadata": {},
   "source": [
    "```\n",
    "zypper in  python-pandas\n",
    "```"
   ]
  },
  {
   "cell_type": "markdown",
   "metadata": {},
   "source": [
    "It will install from \"Official Debian Repository\" and \"OpenSuse Repository\" respectively."
   ]
  },
  {
   "cell_type": "markdown",
   "metadata": {},
   "source": [
    "#### 1.3 Anaconda Installation"
   ]
  },
  {
   "cell_type": "markdown",
   "metadata": {},
   "source": [
    "Anaconda is a cross-platform Python distribution for scientific computing and data analytics.\n",
    "\n",
    "It makes the installation phase easy for beginners.\n",
    "\n",
    "You can get Anaconda from [here](https://docs.continuum.io/anaconda/install)."
   ]
  },
  {
   "cell_type": "markdown",
   "metadata": {},
   "source": [
    "You can play with Pandas online at the IPython Notebook service by [Wakari](https://wakari.io/), without installing it.\n",
    "\n",
    "We will start by importing the pandas and numpy package."
   ]
  },
  {
   "cell_type": "code",
   "execution_count": 1,
   "metadata": {
    "collapsed": true
   },
   "outputs": [],
   "source": [
    "import pandas as pd"
   ]
  },
  {
   "cell_type": "code",
   "execution_count": 2,
   "metadata": {
    "collapsed": true
   },
   "outputs": [],
   "source": [
    "import numpy as np"
   ]
  },
  {
   "cell_type": "markdown",
   "metadata": {},
   "source": [
    "### 2. Reading, Writing, and Creating data\n",
    "Pandas let you use your data from multiple formats like CSV, EXCEL, JSON etc.\n",
    "\n",
    "You can use the data file on your local system or from an external URL."
   ]
  },
  {
   "cell_type": "markdown",
   "metadata": {},
   "source": [
    "#### 2.1 Create data\n",
    "You can easily convert your Python lists into a DataFrame object.\n",
    "\n",
    "DataFrame is the most commonly used data-structure of Pandas, it's a 2-dimensional table like structure that can hold columns of multiple data-types."
   ]
  },
  {
   "cell_type": "code",
   "execution_count": 3,
   "metadata": {
    "collapsed": true
   },
   "outputs": [],
   "source": [
    "# You can easily convert your Python lists into a DataFrame.\n",
    "subjects = ['Mathematics', 'English', 'History', 'Science', 'Arts']\n",
    "marks = [67, 60, 36, 61, 58]"
   ]
  },
  {
   "cell_type": "markdown",
   "metadata": {},
   "source": [
    "Using the Python's **zip** function, we can merge these two **list** sequences into one."
   ]
  },
  {
   "cell_type": "code",
   "execution_count": 4,
   "metadata": {
    "collapsed": false
   },
   "outputs": [
    {
     "data": {
      "text/plain": [
       "[('Mathematics', 67),\n",
       " ('English', 60),\n",
       " ('History', 36),\n",
       " ('Science', 61),\n",
       " ('Arts', 58)]"
      ]
     },
     "execution_count": 4,
     "metadata": {},
     "output_type": "execute_result"
    }
   ],
   "source": [
    "marks_dataset = zip(subjects, marks)\n",
    "marks_dataset"
   ]
  },
  {
   "cell_type": "code",
   "execution_count": 5,
   "metadata": {
    "collapsed": false
   },
   "outputs": [
    {
     "data": {
      "text/html": [
       "<div>\n",
       "<table border=\"1\" class=\"dataframe\">\n",
       "  <thead>\n",
       "    <tr style=\"text-align: right;\">\n",
       "      <th></th>\n",
       "      <th>Subjects</th>\n",
       "      <th>Marks</th>\n",
       "    </tr>\n",
       "  </thead>\n",
       "  <tbody>\n",
       "    <tr>\n",
       "      <th>0</th>\n",
       "      <td>Mathematics</td>\n",
       "      <td>67</td>\n",
       "    </tr>\n",
       "    <tr>\n",
       "      <th>1</th>\n",
       "      <td>English</td>\n",
       "      <td>60</td>\n",
       "    </tr>\n",
       "    <tr>\n",
       "      <th>2</th>\n",
       "      <td>History</td>\n",
       "      <td>36</td>\n",
       "    </tr>\n",
       "    <tr>\n",
       "      <th>3</th>\n",
       "      <td>Science</td>\n",
       "      <td>61</td>\n",
       "    </tr>\n",
       "    <tr>\n",
       "      <th>4</th>\n",
       "      <td>Arts</td>\n",
       "      <td>58</td>\n",
       "    </tr>\n",
       "  </tbody>\n",
       "</table>\n",
       "</div>"
      ],
      "text/plain": [
       "      Subjects  Marks\n",
       "0  Mathematics     67\n",
       "1      English     60\n",
       "2      History     36\n",
       "3      Science     61\n",
       "4         Arts     58"
      ]
     },
     "execution_count": 5,
     "metadata": {},
     "output_type": "execute_result"
    }
   ],
   "source": [
    "# Convert the new list to a DataFrame\n",
    "marks_df = pd.DataFrame(marks_dataset, columns=['Subjects', 'Marks'])\n",
    "marks_df"
   ]
  },
  {
   "cell_type": "markdown",
   "metadata": {},
   "source": [
    "The **columns** argument list represents the labels of the respective columns."
   ]
  },
  {
   "cell_type": "markdown",
   "metadata": {},
   "source": [
    "Add a new column 'Result' using **numpy.where**, set it as 'Pass' if **marks>=40** else 'Fail'."
   ]
  },
  {
   "cell_type": "code",
   "execution_count": 6,
   "metadata": {
    "collapsed": false
   },
   "outputs": [
    {
     "data": {
      "text/html": [
       "<div>\n",
       "<table border=\"1\" class=\"dataframe\">\n",
       "  <thead>\n",
       "    <tr style=\"text-align: right;\">\n",
       "      <th></th>\n",
       "      <th>Subjects</th>\n",
       "      <th>Marks</th>\n",
       "      <th>Result</th>\n",
       "    </tr>\n",
       "  </thead>\n",
       "  <tbody>\n",
       "    <tr>\n",
       "      <th>0</th>\n",
       "      <td>Mathematics</td>\n",
       "      <td>67</td>\n",
       "      <td>Pass</td>\n",
       "    </tr>\n",
       "    <tr>\n",
       "      <th>1</th>\n",
       "      <td>English</td>\n",
       "      <td>60</td>\n",
       "      <td>Pass</td>\n",
       "    </tr>\n",
       "    <tr>\n",
       "      <th>2</th>\n",
       "      <td>History</td>\n",
       "      <td>36</td>\n",
       "      <td>Fail</td>\n",
       "    </tr>\n",
       "    <tr>\n",
       "      <th>3</th>\n",
       "      <td>Science</td>\n",
       "      <td>61</td>\n",
       "      <td>Pass</td>\n",
       "    </tr>\n",
       "    <tr>\n",
       "      <th>4</th>\n",
       "      <td>Arts</td>\n",
       "      <td>58</td>\n",
       "      <td>Pass</td>\n",
       "    </tr>\n",
       "  </tbody>\n",
       "</table>\n",
       "</div>"
      ],
      "text/plain": [
       "      Subjects  Marks Result\n",
       "0  Mathematics     67   Pass\n",
       "1      English     60   Pass\n",
       "2      History     36   Fail\n",
       "3      Science     61   Pass\n",
       "4         Arts     58   Pass"
      ]
     },
     "execution_count": 6,
     "metadata": {},
     "output_type": "execute_result"
    }
   ],
   "source": [
    "marks_df['Result'] = np.where(marks_df['Marks']>=40, 'Pass', 'Fail')\n",
    "marks_df"
   ]
  },
  {
   "cell_type": "markdown",
   "metadata": {},
   "source": [
    "To delete a column (say 'Result'), we can use **`marks_df.pop('Result')`**."
   ]
  },
  {
   "cell_type": "markdown",
   "metadata": {},
   "source": [
    "#### 2.2 Write data\n",
    "We can write the **DataFrame** object to different file types."
   ]
  },
  {
   "cell_type": "code",
   "execution_count": 7,
   "metadata": {
    "collapsed": true
   },
   "outputs": [],
   "source": [
    "# save the marks dataframe to a csv(comma-separated values) file in your directory\n",
    "marks_df.to_csv('marks.csv', index=False)"
   ]
  },
  {
   "cell_type": "markdown",
   "metadata": {},
   "source": [
    "The argument **index=False** is to prevent writing the index for each row (0...4) in file."
   ]
  },
  {
   "cell_type": "markdown",
   "metadata": {},
   "source": [
    "#### 2.3 Read data\n",
    "You can read data into Pandas from different types of files.\n",
    "\n",
    "**Here, we will be using the 'YouTube Channel Dataset'.** [https://gist.github.com/pravj/9ae9e67d10668c60545e2b858753415c]\n",
    "\n",
    "**Some of the \"Views\" and \"Comments\" columns have missing values, represented as -1.**\n",
    "\n",
    "It represents the YouTube channel customer reach (views and comments) for two channel named '*WorldNews*' and '*WorldWeather*'."
   ]
  },
  {
   "cell_type": "code",
   "execution_count": 8,
   "metadata": {
    "collapsed": false
   },
   "outputs": [],
   "source": [
    "# reading csv dataset from an external URL\n",
    "channels_df = pd.read_csv('http://bit.ly/1rq29Xf')"
   ]
  },
  {
   "cell_type": "markdown",
   "metadata": {},
   "source": [
    "### 3. Selecting and Filtering dataframes\n",
    "In this section, we will learn about selecting and filtering out parts of the dataframes, satisfying specific conditions."
   ]
  },
  {
   "cell_type": "code",
   "execution_count": 9,
   "metadata": {
    "collapsed": false
   },
   "outputs": [
    {
     "data": {
      "text/html": [
       "<div>\n",
       "<table border=\"1\" class=\"dataframe\">\n",
       "  <thead>\n",
       "    <tr style=\"text-align: right;\">\n",
       "      <th></th>\n",
       "      <th>Views</th>\n",
       "      <th>Comments</th>\n",
       "    </tr>\n",
       "  </thead>\n",
       "  <tbody>\n",
       "    <tr>\n",
       "      <th>count</th>\n",
       "      <td>362.000000</td>\n",
       "      <td>362.000000</td>\n",
       "    </tr>\n",
       "    <tr>\n",
       "      <th>mean</th>\n",
       "      <td>288.229282</td>\n",
       "      <td>17.383978</td>\n",
       "    </tr>\n",
       "    <tr>\n",
       "      <th>std</th>\n",
       "      <td>147.604341</td>\n",
       "      <td>12.479304</td>\n",
       "    </tr>\n",
       "    <tr>\n",
       "      <th>min</th>\n",
       "      <td>-1.000000</td>\n",
       "      <td>-1.000000</td>\n",
       "    </tr>\n",
       "    <tr>\n",
       "      <th>25%</th>\n",
       "      <td>172.750000</td>\n",
       "      <td>8.000000</td>\n",
       "    </tr>\n",
       "    <tr>\n",
       "      <th>50%</th>\n",
       "      <td>295.500000</td>\n",
       "      <td>14.000000</td>\n",
       "    </tr>\n",
       "    <tr>\n",
       "      <th>75%</th>\n",
       "      <td>399.000000</td>\n",
       "      <td>26.000000</td>\n",
       "    </tr>\n",
       "    <tr>\n",
       "      <th>max</th>\n",
       "      <td>533.000000</td>\n",
       "      <td>54.000000</td>\n",
       "    </tr>\n",
       "  </tbody>\n",
       "</table>\n",
       "</div>"
      ],
      "text/plain": [
       "            Views    Comments\n",
       "count  362.000000  362.000000\n",
       "mean   288.229282   17.383978\n",
       "std    147.604341   12.479304\n",
       "min     -1.000000   -1.000000\n",
       "25%    172.750000    8.000000\n",
       "50%    295.500000   14.000000\n",
       "75%    399.000000   26.000000\n",
       "max    533.000000   54.000000"
      ]
     },
     "execution_count": 9,
     "metadata": {},
     "output_type": "execute_result"
    }
   ],
   "source": [
    "# shows statistics about the dataset\n",
    "channels_df.describe()"
   ]
  },
  {
   "cell_type": "markdown",
   "metadata": {},
   "source": [
    "We can replace the missing data values **(-1)** with **NaN** for some statistical ease."
   ]
  },
  {
   "cell_type": "code",
   "execution_count": 10,
   "metadata": {
    "collapsed": true
   },
   "outputs": [],
   "source": [
    "channels_df = channels_df.replace(-1, np.nan)"
   ]
  },
  {
   "cell_type": "markdown",
   "metadata": {},
   "source": [
    "Select top 5 row for the dataframe. (**`tail`** function will return last 5 rows)"
   ]
  },
  {
   "cell_type": "code",
   "execution_count": 11,
   "metadata": {
    "collapsed": false
   },
   "outputs": [
    {
     "data": {
      "text/html": [
       "<div>\n",
       "<table border=\"1\" class=\"dataframe\">\n",
       "  <thead>\n",
       "    <tr style=\"text-align: right;\">\n",
       "      <th></th>\n",
       "      <th>Channel</th>\n",
       "      <th>Date</th>\n",
       "      <th>Anchor</th>\n",
       "      <th>Views</th>\n",
       "      <th>Comments</th>\n",
       "    </tr>\n",
       "  </thead>\n",
       "  <tbody>\n",
       "    <tr>\n",
       "      <th>0</th>\n",
       "      <td>WorldNews</td>\n",
       "      <td>2015-01-01</td>\n",
       "      <td>bob</td>\n",
       "      <td>495.0</td>\n",
       "      <td>39.0</td>\n",
       "    </tr>\n",
       "    <tr>\n",
       "      <th>1</th>\n",
       "      <td>WorldWeather</td>\n",
       "      <td>2015-01-01</td>\n",
       "      <td>emily</td>\n",
       "      <td>191.0</td>\n",
       "      <td>24.0</td>\n",
       "    </tr>\n",
       "    <tr>\n",
       "      <th>2</th>\n",
       "      <td>WorldNews</td>\n",
       "      <td>2015-01-02</td>\n",
       "      <td>bob</td>\n",
       "      <td>293.0</td>\n",
       "      <td>4.0</td>\n",
       "    </tr>\n",
       "    <tr>\n",
       "      <th>3</th>\n",
       "      <td>WorldWeather</td>\n",
       "      <td>2015-01-02</td>\n",
       "      <td>harry</td>\n",
       "      <td>238.0</td>\n",
       "      <td>NaN</td>\n",
       "    </tr>\n",
       "    <tr>\n",
       "      <th>4</th>\n",
       "      <td>WorldNews</td>\n",
       "      <td>2015-01-03</td>\n",
       "      <td>alice</td>\n",
       "      <td>509.0</td>\n",
       "      <td>13.0</td>\n",
       "    </tr>\n",
       "  </tbody>\n",
       "</table>\n",
       "</div>"
      ],
      "text/plain": [
       "        Channel        Date Anchor  Views  Comments\n",
       "0     WorldNews  2015-01-01    bob  495.0      39.0\n",
       "1  WorldWeather  2015-01-01  emily  191.0      24.0\n",
       "2     WorldNews  2015-01-02    bob  293.0       4.0\n",
       "3  WorldWeather  2015-01-02  harry  238.0       NaN\n",
       "4     WorldNews  2015-01-03  alice  509.0      13.0"
      ]
     },
     "execution_count": 11,
     "metadata": {},
     "output_type": "execute_result"
    }
   ],
   "source": [
    "channels_df.head()"
   ]
  },
  {
   "cell_type": "markdown",
   "metadata": {},
   "source": [
    "Select rows only for the 'WorldNews' channel."
   ]
  },
  {
   "cell_type": "code",
   "execution_count": 12,
   "metadata": {
    "collapsed": false
   },
   "outputs": [],
   "source": [
    "worldnews_df = channels_df[channels_df['Channel'] == 'WorldNews']"
   ]
  },
  {
   "cell_type": "markdown",
   "metadata": {},
   "source": [
    "Select some sample rows from the new dataframe."
   ]
  },
  {
   "cell_type": "code",
   "execution_count": 13,
   "metadata": {
    "collapsed": false
   },
   "outputs": [
    {
     "data": {
      "text/html": [
       "<div>\n",
       "<table border=\"1\" class=\"dataframe\">\n",
       "  <thead>\n",
       "    <tr style=\"text-align: right;\">\n",
       "      <th></th>\n",
       "      <th>Channel</th>\n",
       "      <th>Date</th>\n",
       "      <th>Anchor</th>\n",
       "      <th>Views</th>\n",
       "      <th>Comments</th>\n",
       "    </tr>\n",
       "  </thead>\n",
       "  <tbody>\n",
       "    <tr>\n",
       "      <th>82</th>\n",
       "      <td>WorldNews</td>\n",
       "      <td>2015-02-11</td>\n",
       "      <td>bob</td>\n",
       "      <td>432.0</td>\n",
       "      <td>9.0</td>\n",
       "    </tr>\n",
       "    <tr>\n",
       "      <th>246</th>\n",
       "      <td>WorldNews</td>\n",
       "      <td>2015-05-04</td>\n",
       "      <td>alice</td>\n",
       "      <td>294.0</td>\n",
       "      <td>19.0</td>\n",
       "    </tr>\n",
       "    <tr>\n",
       "      <th>126</th>\n",
       "      <td>WorldNews</td>\n",
       "      <td>2015-03-05</td>\n",
       "      <td>jenn</td>\n",
       "      <td>513.0</td>\n",
       "      <td>5.0</td>\n",
       "    </tr>\n",
       "  </tbody>\n",
       "</table>\n",
       "</div>"
      ],
      "text/plain": [
       "       Channel        Date Anchor  Views  Comments\n",
       "82   WorldNews  2015-02-11    bob  432.0       9.0\n",
       "246  WorldNews  2015-05-04  alice  294.0      19.0\n",
       "126  WorldNews  2015-03-05   jenn  513.0       5.0"
      ]
     },
     "execution_count": 13,
     "metadata": {},
     "output_type": "execute_result"
    }
   ],
   "source": [
    "worldnews_df.sample(3)"
   ]
  },
  {
   "cell_type": "markdown",
   "metadata": {},
   "source": [
    "Filter out the rows for 'WorldNews' channel having less than 100 views."
   ]
  },
  {
   "cell_type": "code",
   "execution_count": 14,
   "metadata": {
    "collapsed": false
   },
   "outputs": [],
   "source": [
    "worldnews_less_views_df = worldnews_df[worldnews_df['Views'] < 100]"
   ]
  },
  {
   "cell_type": "markdown",
   "metadata": {},
   "source": [
    "Count the days when 'WorldNews' has received less than 100 views."
   ]
  },
  {
   "cell_type": "code",
   "execution_count": 15,
   "metadata": {
    "collapsed": false
   },
   "outputs": [
    {
     "data": {
      "text/plain": [
       "105"
      ]
     },
     "execution_count": 15,
     "metadata": {},
     "output_type": "execute_result"
    }
   ],
   "source": [
    "worldnews_less_views_df.size"
   ]
  },
  {
   "cell_type": "markdown",
   "metadata": {},
   "source": [
    "#### 3.1 Indexing"
   ]
  },
  {
   "cell_type": "markdown",
   "metadata": {},
   "source": [
    "To get and set subsets of data object, Pandas supports 3 types of multi-axis indexing.\n",
    "\n",
    "* **loc**\n",
    "    * It is based on the index *labels*.\n",
    "* **iloc**\n",
    "    * It is based on the index *positions*, only integer values are accepted.\n",
    "* **ix**\n",
    "    * Generally it behaves like **loc** but falls back to **iloc** when the label is not present in the index."
   ]
  },
  {
   "cell_type": "markdown",
   "metadata": {},
   "source": [
    "In our dataset the index contains only integer values, so all these methods will work similarly."
   ]
  },
  {
   "cell_type": "markdown",
   "metadata": {},
   "source": [
    "**Note that** the DataFrame *worldnews_df* contains only even integers in the index."
   ]
  },
  {
   "cell_type": "code",
   "execution_count": 16,
   "metadata": {
    "collapsed": false,
    "scrolled": true
   },
   "outputs": [
    {
     "data": {
      "text/plain": [
       "Int64Index([  0,   2,   4,   6,   8,  10,  12,  14,  16,  18,\n",
       "            ...\n",
       "            342, 344, 346, 348, 350, 352, 354, 356, 358, 360],\n",
       "           dtype='int64', length=181)"
      ]
     },
     "execution_count": 16,
     "metadata": {},
     "output_type": "execute_result"
    }
   ],
   "source": [
    "worldnews_df.index"
   ]
  },
  {
   "cell_type": "markdown",
   "metadata": {},
   "source": [
    "##### 3.1.1 Selection By Label"
   ]
  },
  {
   "cell_type": "markdown",
   "metadata": {},
   "source": [
    "In the **label based indexing**, it follows **strict inclusion**.\n",
    "\n",
    "For example **[10:14]** will look for every value in between 10 and 14 including both.\n",
    "\n",
    "**At least 1** labels should be present in the index, otherwise a **KerError** will be raised."
   ]
  },
  {
   "cell_type": "markdown",
   "metadata": {},
   "source": [
    "This will return the top **3** rows having index as 0, 2, and 4; Because it looks at the labels."
   ]
  },
  {
   "cell_type": "code",
   "execution_count": 17,
   "metadata": {
    "collapsed": false
   },
   "outputs": [
    {
     "data": {
      "text/html": [
       "<div>\n",
       "<table border=\"1\" class=\"dataframe\">\n",
       "  <thead>\n",
       "    <tr style=\"text-align: right;\">\n",
       "      <th></th>\n",
       "      <th>Channel</th>\n",
       "      <th>Date</th>\n",
       "      <th>Anchor</th>\n",
       "      <th>Views</th>\n",
       "      <th>Comments</th>\n",
       "    </tr>\n",
       "  </thead>\n",
       "  <tbody>\n",
       "    <tr>\n",
       "      <th>0</th>\n",
       "      <td>WorldNews</td>\n",
       "      <td>2015-01-01</td>\n",
       "      <td>bob</td>\n",
       "      <td>495.0</td>\n",
       "      <td>39.0</td>\n",
       "    </tr>\n",
       "    <tr>\n",
       "      <th>2</th>\n",
       "      <td>WorldNews</td>\n",
       "      <td>2015-01-02</td>\n",
       "      <td>bob</td>\n",
       "      <td>293.0</td>\n",
       "      <td>4.0</td>\n",
       "    </tr>\n",
       "    <tr>\n",
       "      <th>4</th>\n",
       "      <td>WorldNews</td>\n",
       "      <td>2015-01-03</td>\n",
       "      <td>alice</td>\n",
       "      <td>509.0</td>\n",
       "      <td>13.0</td>\n",
       "    </tr>\n",
       "  </tbody>\n",
       "</table>\n",
       "</div>"
      ],
      "text/plain": [
       "     Channel        Date Anchor  Views  Comments\n",
       "0  WorldNews  2015-01-01    bob  495.0      39.0\n",
       "2  WorldNews  2015-01-02    bob  293.0       4.0\n",
       "4  WorldNews  2015-01-03  alice  509.0      13.0"
      ]
     },
     "execution_count": 17,
     "metadata": {},
     "output_type": "execute_result"
    }
   ],
   "source": [
    "worldnews_df.loc[0:4]"
   ]
  },
  {
   "cell_type": "markdown",
   "metadata": {},
   "source": [
    "##### Selection By Position"
   ]
  },
  {
   "cell_type": "markdown",
   "metadata": {},
   "source": [
    "In the **integer based indexing**, it follows **0-based** slicing similar to Python lists that you are used to.\n",
    "\n",
    "Where the starting bound is included but the upper bound is excluded.\n",
    "\n",
    "Using a non-integer, even a valid label will raise a **IndexError**."
   ]
  },
  {
   "cell_type": "markdown",
   "metadata": {},
   "source": [
    "Hence, this will return the top **4** rows, Because it looks at the positions."
   ]
  },
  {
   "cell_type": "code",
   "execution_count": 18,
   "metadata": {
    "collapsed": false
   },
   "outputs": [
    {
     "data": {
      "text/html": [
       "<div>\n",
       "<table border=\"1\" class=\"dataframe\">\n",
       "  <thead>\n",
       "    <tr style=\"text-align: right;\">\n",
       "      <th></th>\n",
       "      <th>Channel</th>\n",
       "      <th>Date</th>\n",
       "      <th>Anchor</th>\n",
       "      <th>Views</th>\n",
       "      <th>Comments</th>\n",
       "    </tr>\n",
       "  </thead>\n",
       "  <tbody>\n",
       "    <tr>\n",
       "      <th>0</th>\n",
       "      <td>WorldNews</td>\n",
       "      <td>2015-01-01</td>\n",
       "      <td>bob</td>\n",
       "      <td>495.0</td>\n",
       "      <td>39.0</td>\n",
       "    </tr>\n",
       "    <tr>\n",
       "      <th>2</th>\n",
       "      <td>WorldNews</td>\n",
       "      <td>2015-01-02</td>\n",
       "      <td>bob</td>\n",
       "      <td>293.0</td>\n",
       "      <td>4.0</td>\n",
       "    </tr>\n",
       "    <tr>\n",
       "      <th>4</th>\n",
       "      <td>WorldNews</td>\n",
       "      <td>2015-01-03</td>\n",
       "      <td>alice</td>\n",
       "      <td>509.0</td>\n",
       "      <td>13.0</td>\n",
       "    </tr>\n",
       "    <tr>\n",
       "      <th>6</th>\n",
       "      <td>WorldNews</td>\n",
       "      <td>2015-01-04</td>\n",
       "      <td>alice</td>\n",
       "      <td>490.0</td>\n",
       "      <td>54.0</td>\n",
       "    </tr>\n",
       "  </tbody>\n",
       "</table>\n",
       "</div>"
      ],
      "text/plain": [
       "     Channel        Date Anchor  Views  Comments\n",
       "0  WorldNews  2015-01-01    bob  495.0      39.0\n",
       "2  WorldNews  2015-01-02    bob  293.0       4.0\n",
       "4  WorldNews  2015-01-03  alice  509.0      13.0\n",
       "6  WorldNews  2015-01-04  alice  490.0      54.0"
      ]
     },
     "execution_count": 18,
     "metadata": {},
     "output_type": "execute_result"
    }
   ],
   "source": [
    "worldnews_df.iloc[0:4]"
   ]
  },
  {
   "cell_type": "markdown",
   "metadata": {},
   "source": [
    "This will work like **loc** because the index contains integer values."
   ]
  },
  {
   "cell_type": "code",
   "execution_count": 19,
   "metadata": {
    "collapsed": false
   },
   "outputs": [
    {
     "data": {
      "text/html": [
       "<div>\n",
       "<table border=\"1\" class=\"dataframe\">\n",
       "  <thead>\n",
       "    <tr style=\"text-align: right;\">\n",
       "      <th></th>\n",
       "      <th>Channel</th>\n",
       "      <th>Date</th>\n",
       "      <th>Anchor</th>\n",
       "      <th>Views</th>\n",
       "      <th>Comments</th>\n",
       "    </tr>\n",
       "  </thead>\n",
       "  <tbody>\n",
       "    <tr>\n",
       "      <th>0</th>\n",
       "      <td>WorldNews</td>\n",
       "      <td>2015-01-01</td>\n",
       "      <td>bob</td>\n",
       "      <td>495.0</td>\n",
       "      <td>39.0</td>\n",
       "    </tr>\n",
       "    <tr>\n",
       "      <th>2</th>\n",
       "      <td>WorldNews</td>\n",
       "      <td>2015-01-02</td>\n",
       "      <td>bob</td>\n",
       "      <td>293.0</td>\n",
       "      <td>4.0</td>\n",
       "    </tr>\n",
       "    <tr>\n",
       "      <th>4</th>\n",
       "      <td>WorldNews</td>\n",
       "      <td>2015-01-03</td>\n",
       "      <td>alice</td>\n",
       "      <td>509.0</td>\n",
       "      <td>13.0</td>\n",
       "    </tr>\n",
       "  </tbody>\n",
       "</table>\n",
       "</div>"
      ],
      "text/plain": [
       "     Channel        Date Anchor  Views  Comments\n",
       "0  WorldNews  2015-01-01    bob  495.0      39.0\n",
       "2  WorldNews  2015-01-02    bob  293.0       4.0\n",
       "4  WorldNews  2015-01-03  alice  509.0      13.0"
      ]
     },
     "execution_count": 19,
     "metadata": {},
     "output_type": "execute_result"
    }
   ],
   "source": [
    "worldnews_df.ix[0:4]"
   ]
  },
  {
   "cell_type": "markdown",
   "metadata": {},
   "source": [
    "### 4. Grouping, Aggregating, and Pivoting data"
   ]
  },
  {
   "cell_type": "markdown",
   "metadata": {},
   "source": [
    "#### 4.1 Grouping\n",
    "We can group (combine) the dataset based on certain parameters.\n",
    "\n",
    "For example, here we are grouping the 'WorldNews' dataset based on their 'Anchor' columns."
   ]
  },
  {
   "cell_type": "code",
   "execution_count": 20,
   "metadata": {
    "collapsed": false
   },
   "outputs": [],
   "source": [
    "worldnews_anchors_group = worldnews_df.groupby(worldnews_df['Anchor'])"
   ]
  },
  {
   "cell_type": "markdown",
   "metadata": {},
   "source": [
    "This will return a **DataFrameGroupBy** object."
   ]
  },
  {
   "cell_type": "code",
   "execution_count": 21,
   "metadata": {
    "collapsed": false
   },
   "outputs": [
    {
     "data": {
      "text/plain": [
       "pandas.core.groupby.DataFrameGroupBy"
      ]
     },
     "execution_count": 21,
     "metadata": {},
     "output_type": "execute_result"
    }
   ],
   "source": [
    "type(worldnews_anchors_group)"
   ]
  },
  {
   "cell_type": "markdown",
   "metadata": {},
   "source": [
    "#### 4.2 Aggregating\n",
    "Aggregating the resultant group will count the respective 'Views' and 'Columns' for each anchor."
   ]
  },
  {
   "cell_type": "code",
   "execution_count": 22,
   "metadata": {
    "collapsed": false
   },
   "outputs": [
    {
     "data": {
      "text/html": [
       "<div>\n",
       "<table border=\"1\" class=\"dataframe\">\n",
       "  <thead>\n",
       "    <tr style=\"text-align: right;\">\n",
       "      <th></th>\n",
       "      <th>Views</th>\n",
       "      <th>Comments</th>\n",
       "    </tr>\n",
       "    <tr>\n",
       "      <th>Anchor</th>\n",
       "      <th></th>\n",
       "      <th></th>\n",
       "    </tr>\n",
       "  </thead>\n",
       "  <tbody>\n",
       "    <tr>\n",
       "      <th>alice</th>\n",
       "      <td>17498.0</td>\n",
       "      <td>1227.0</td>\n",
       "    </tr>\n",
       "    <tr>\n",
       "      <th>bob</th>\n",
       "      <td>17754.0</td>\n",
       "      <td>821.0</td>\n",
       "    </tr>\n",
       "    <tr>\n",
       "      <th>jenn</th>\n",
       "      <td>16946.0</td>\n",
       "      <td>888.0</td>\n",
       "    </tr>\n",
       "  </tbody>\n",
       "</table>\n",
       "</div>"
      ],
      "text/plain": [
       "          Views  Comments\n",
       "Anchor                   \n",
       "alice   17498.0    1227.0\n",
       "bob     17754.0     821.0\n",
       "jenn    16946.0     888.0"
      ]
     },
     "execution_count": 22,
     "metadata": {},
     "output_type": "execute_result"
    }
   ],
   "source": [
    "worldnews_anchors_group.aggregate(np.sum)"
   ]
  },
  {
   "cell_type": "markdown",
   "metadata": {},
   "source": [
    "#### 4.3 Pivoting\n",
    "Using the pivot function, we can generate a new table from the original one.\n",
    "\n",
    "It takes three arguments, that decides the **index**, **columns**, and **cell values** of the new table we want.\n",
    "\n",
    "Consider this sample table for example."
   ]
  },
  {
   "cell_type": "code",
   "execution_count": 23,
   "metadata": {
    "collapsed": false
   },
   "outputs": [
    {
     "data": {
      "text/html": [
       "<div>\n",
       "<table border=\"1\" class=\"dataframe\">\n",
       "  <thead>\n",
       "    <tr style=\"text-align: right;\">\n",
       "      <th></th>\n",
       "      <th>Channel</th>\n",
       "      <th>Date</th>\n",
       "      <th>Anchor</th>\n",
       "      <th>Views</th>\n",
       "      <th>Comments</th>\n",
       "    </tr>\n",
       "  </thead>\n",
       "  <tbody>\n",
       "    <tr>\n",
       "      <th>282</th>\n",
       "      <td>WorldNews</td>\n",
       "      <td>2015-05-22</td>\n",
       "      <td>jenn</td>\n",
       "      <td>200.0</td>\n",
       "      <td>NaN</td>\n",
       "    </tr>\n",
       "    <tr>\n",
       "      <th>186</th>\n",
       "      <td>WorldNews</td>\n",
       "      <td>2015-04-04</td>\n",
       "      <td>alice</td>\n",
       "      <td>114.0</td>\n",
       "      <td>20.0</td>\n",
       "    </tr>\n",
       "    <tr>\n",
       "      <th>20</th>\n",
       "      <td>WorldNews</td>\n",
       "      <td>2015-01-11</td>\n",
       "      <td>alice</td>\n",
       "      <td>480.0</td>\n",
       "      <td>24.0</td>\n",
       "    </tr>\n",
       "    <tr>\n",
       "      <th>242</th>\n",
       "      <td>WorldNews</td>\n",
       "      <td>2015-05-02</td>\n",
       "      <td>alice</td>\n",
       "      <td>100.0</td>\n",
       "      <td>26.0</td>\n",
       "    </tr>\n",
       "    <tr>\n",
       "      <th>136</th>\n",
       "      <td>WorldNews</td>\n",
       "      <td>2015-03-10</td>\n",
       "      <td>alice</td>\n",
       "      <td>240.0</td>\n",
       "      <td>24.0</td>\n",
       "    </tr>\n",
       "    <tr>\n",
       "      <th>10</th>\n",
       "      <td>WorldNews</td>\n",
       "      <td>2015-01-06</td>\n",
       "      <td>jenn</td>\n",
       "      <td>399.0</td>\n",
       "      <td>17.0</td>\n",
       "    </tr>\n",
       "    <tr>\n",
       "      <th>44</th>\n",
       "      <td>WorldNews</td>\n",
       "      <td>2015-01-23</td>\n",
       "      <td>jenn</td>\n",
       "      <td>72.0</td>\n",
       "      <td>25.0</td>\n",
       "    </tr>\n",
       "    <tr>\n",
       "      <th>286</th>\n",
       "      <td>WorldNews</td>\n",
       "      <td>2015-05-24</td>\n",
       "      <td>alice</td>\n",
       "      <td>394.0</td>\n",
       "      <td>NaN</td>\n",
       "    </tr>\n",
       "    <tr>\n",
       "      <th>268</th>\n",
       "      <td>WorldNews</td>\n",
       "      <td>2015-05-15</td>\n",
       "      <td>alice</td>\n",
       "      <td>400.0</td>\n",
       "      <td>31.0</td>\n",
       "    </tr>\n",
       "    <tr>\n",
       "      <th>328</th>\n",
       "      <td>WorldNews</td>\n",
       "      <td>2015-06-14</td>\n",
       "      <td>alice</td>\n",
       "      <td>378.0</td>\n",
       "      <td>36.0</td>\n",
       "    </tr>\n",
       "  </tbody>\n",
       "</table>\n",
       "</div>"
      ],
      "text/plain": [
       "       Channel        Date Anchor  Views  Comments\n",
       "282  WorldNews  2015-05-22   jenn  200.0       NaN\n",
       "186  WorldNews  2015-04-04  alice  114.0      20.0\n",
       "20   WorldNews  2015-01-11  alice  480.0      24.0\n",
       "242  WorldNews  2015-05-02  alice  100.0      26.0\n",
       "136  WorldNews  2015-03-10  alice  240.0      24.0\n",
       "10   WorldNews  2015-01-06   jenn  399.0      17.0\n",
       "44   WorldNews  2015-01-23   jenn   72.0      25.0\n",
       "286  WorldNews  2015-05-24  alice  394.0       NaN\n",
       "268  WorldNews  2015-05-15  alice  400.0      31.0\n",
       "328  WorldNews  2015-06-14  alice  378.0      36.0"
      ]
     },
     "execution_count": 23,
     "metadata": {},
     "output_type": "execute_result"
    }
   ],
   "source": [
    "worldnews_df.sample(10)"
   ]
  },
  {
   "cell_type": "markdown",
   "metadata": {},
   "source": [
    "We can try reshaping this table to find out how many 'Views' each anchor has received.\n",
    "\n",
    "So we will create a new table whose 'index' is 'Date', 'columns' will be different values of 'Anchor column'.\n",
    "\n",
    "The cell values will be the respective value of the 'Views' column."
   ]
  },
  {
   "cell_type": "code",
   "execution_count": 24,
   "metadata": {
    "collapsed": false,
    "scrolled": true
   },
   "outputs": [
    {
     "data": {
      "text/html": [
       "<div>\n",
       "<table border=\"1\" class=\"dataframe\">\n",
       "  <thead>\n",
       "    <tr style=\"text-align: right;\">\n",
       "      <th>Anchor</th>\n",
       "      <th>alice</th>\n",
       "      <th>bob</th>\n",
       "      <th>jenn</th>\n",
       "    </tr>\n",
       "    <tr>\n",
       "      <th>Date</th>\n",
       "      <th></th>\n",
       "      <th></th>\n",
       "      <th></th>\n",
       "    </tr>\n",
       "  </thead>\n",
       "  <tbody>\n",
       "    <tr>\n",
       "      <th>2015-06-04</th>\n",
       "      <td>NaN</td>\n",
       "      <td>113.0</td>\n",
       "      <td>NaN</td>\n",
       "    </tr>\n",
       "    <tr>\n",
       "      <th>2015-04-07</th>\n",
       "      <td>304.0</td>\n",
       "      <td>NaN</td>\n",
       "      <td>NaN</td>\n",
       "    </tr>\n",
       "    <tr>\n",
       "      <th>2015-06-23</th>\n",
       "      <td>NaN</td>\n",
       "      <td>406.0</td>\n",
       "      <td>NaN</td>\n",
       "    </tr>\n",
       "    <tr>\n",
       "      <th>2015-04-20</th>\n",
       "      <td>NaN</td>\n",
       "      <td>281.0</td>\n",
       "      <td>NaN</td>\n",
       "    </tr>\n",
       "    <tr>\n",
       "      <th>2015-02-09</th>\n",
       "      <td>NaN</td>\n",
       "      <td>509.0</td>\n",
       "      <td>NaN</td>\n",
       "    </tr>\n",
       "    <tr>\n",
       "      <th>2015-02-26</th>\n",
       "      <td>NaN</td>\n",
       "      <td>NaN</td>\n",
       "      <td>91.0</td>\n",
       "    </tr>\n",
       "    <tr>\n",
       "      <th>2015-03-02</th>\n",
       "      <td>115.0</td>\n",
       "      <td>NaN</td>\n",
       "      <td>NaN</td>\n",
       "    </tr>\n",
       "    <tr>\n",
       "      <th>2015-02-24</th>\n",
       "      <td>NaN</td>\n",
       "      <td>284.0</td>\n",
       "      <td>NaN</td>\n",
       "    </tr>\n",
       "    <tr>\n",
       "      <th>2015-05-31</th>\n",
       "      <td>NaN</td>\n",
       "      <td>NaN</td>\n",
       "      <td>311.0</td>\n",
       "    </tr>\n",
       "    <tr>\n",
       "      <th>2015-02-28</th>\n",
       "      <td>NaN</td>\n",
       "      <td>NaN</td>\n",
       "      <td>505.0</td>\n",
       "    </tr>\n",
       "  </tbody>\n",
       "</table>\n",
       "</div>"
      ],
      "text/plain": [
       "Anchor      alice    bob   jenn\n",
       "Date                           \n",
       "2015-06-04    NaN  113.0    NaN\n",
       "2015-04-07  304.0    NaN    NaN\n",
       "2015-06-23    NaN  406.0    NaN\n",
       "2015-04-20    NaN  281.0    NaN\n",
       "2015-02-09    NaN  509.0    NaN\n",
       "2015-02-26    NaN    NaN   91.0\n",
       "2015-03-02  115.0    NaN    NaN\n",
       "2015-02-24    NaN  284.0    NaN\n",
       "2015-05-31    NaN    NaN  311.0\n",
       "2015-02-28    NaN    NaN  505.0"
      ]
     },
     "execution_count": 24,
     "metadata": {},
     "output_type": "execute_result"
    }
   ],
   "source": [
    "worldnews_pivoted_df = worldnews_df.pivot(index='Date', columns='Anchor', values='Views')\n",
    "worldnews_pivoted_df.sample(10)"
   ]
  },
  {
   "cell_type": "markdown",
   "metadata": {},
   "source": [
    "This is our derived table, you can see how many views different anchors have received.\n",
    "\n",
    "Similarly you can reshape your tables according to your usecase."
   ]
  },
  {
   "cell_type": "markdown",
   "metadata": {},
   "source": [
    "### 5. Interpolation"
   ]
  },
  {
   "cell_type": "markdown",
   "metadata": {},
   "source": [
    "Sometimes your dataset has missing values in it. It may have caused by the equipment fault, human error or many other ways.\n",
    "\n",
    "Pandas provide the **interpolate** function to insert data between fixed points.\n",
    "\n",
    "It uses different methods to regularize the missing values, by default it uses **linear interpolation** for the same."
   ]
  },
  {
   "cell_type": "markdown",
   "metadata": {},
   "source": [
    "We can count the absent values (**NaN**) using the **isnull** method."
   ]
  },
  {
   "cell_type": "code",
   "execution_count": 25,
   "metadata": {
    "collapsed": false
   },
   "outputs": [
    {
     "data": {
      "text/plain": [
       "Channel     0\n",
       "Date        0\n",
       "Anchor      0\n",
       "Views       7\n",
       "Comments    7\n",
       "dtype: int64"
      ]
     },
     "execution_count": 25,
     "metadata": {},
     "output_type": "execute_result"
    }
   ],
   "source": [
    "worldnews_df.isnull().sum()"
   ]
  },
  {
   "cell_type": "markdown",
   "metadata": {},
   "source": [
    "Now let's interpolate the Series object."
   ]
  },
  {
   "cell_type": "code",
   "execution_count": 26,
   "metadata": {
    "collapsed": false
   },
   "outputs": [],
   "source": [
    "worldnews_interpolated_df = worldnews_df.interpolate()"
   ]
  },
  {
   "cell_type": "markdown",
   "metadata": {},
   "source": [
    "After interpolation, we can see that there are no more **NaN** values."
   ]
  },
  {
   "cell_type": "code",
   "execution_count": 27,
   "metadata": {
    "collapsed": false
   },
   "outputs": [
    {
     "data": {
      "text/plain": [
       "Channel     0\n",
       "Date        0\n",
       "Anchor      0\n",
       "Views       0\n",
       "Comments    0\n",
       "dtype: int64"
      ]
     },
     "execution_count": 27,
     "metadata": {},
     "output_type": "execute_result"
    }
   ],
   "source": [
    "worldnews_interpolated_df.isnull().sum()"
   ]
  },
  {
   "cell_type": "markdown",
   "metadata": {},
   "source": [
    "### 6. Joining data"
   ]
  },
  {
   "cell_type": "markdown",
   "metadata": {},
   "source": [
    "Pandas provides multiple methods to easily combine DataFrame and Series objects, like we see in SQL's join operations."
   ]
  },
  {
   "cell_type": "markdown",
   "metadata": {},
   "source": [
    "Consider these two small DataFrames."
   ]
  },
  {
   "cell_type": "code",
   "execution_count": 28,
   "metadata": {
    "collapsed": false
   },
   "outputs": [],
   "source": [
    "Adf = worldnews_df.iloc[3:8]\n",
    "Bdf = channels_df[channels_df['Channel'] == 'WorldWeather'].iloc[5:10]"
   ]
  },
  {
   "cell_type": "code",
   "execution_count": 29,
   "metadata": {
    "collapsed": false
   },
   "outputs": [
    {
     "data": {
      "text/html": [
       "<div>\n",
       "<table border=\"1\" class=\"dataframe\">\n",
       "  <thead>\n",
       "    <tr style=\"text-align: right;\">\n",
       "      <th></th>\n",
       "      <th>Channel</th>\n",
       "      <th>Date</th>\n",
       "      <th>Anchor</th>\n",
       "      <th>Views</th>\n",
       "      <th>Comments</th>\n",
       "    </tr>\n",
       "  </thead>\n",
       "  <tbody>\n",
       "    <tr>\n",
       "      <th>6</th>\n",
       "      <td>WorldNews</td>\n",
       "      <td>2015-01-04</td>\n",
       "      <td>alice</td>\n",
       "      <td>490.0</td>\n",
       "      <td>54.0</td>\n",
       "    </tr>\n",
       "    <tr>\n",
       "      <th>8</th>\n",
       "      <td>WorldNews</td>\n",
       "      <td>2015-01-05</td>\n",
       "      <td>bob</td>\n",
       "      <td>231.0</td>\n",
       "      <td>13.0</td>\n",
       "    </tr>\n",
       "    <tr>\n",
       "      <th>10</th>\n",
       "      <td>WorldNews</td>\n",
       "      <td>2015-01-06</td>\n",
       "      <td>jenn</td>\n",
       "      <td>399.0</td>\n",
       "      <td>17.0</td>\n",
       "    </tr>\n",
       "    <tr>\n",
       "      <th>12</th>\n",
       "      <td>WorldNews</td>\n",
       "      <td>2015-01-07</td>\n",
       "      <td>jenn</td>\n",
       "      <td>463.0</td>\n",
       "      <td>26.0</td>\n",
       "    </tr>\n",
       "    <tr>\n",
       "      <th>14</th>\n",
       "      <td>WorldNews</td>\n",
       "      <td>2015-01-08</td>\n",
       "      <td>bob</td>\n",
       "      <td>479.0</td>\n",
       "      <td>27.0</td>\n",
       "    </tr>\n",
       "  </tbody>\n",
       "</table>\n",
       "</div>"
      ],
      "text/plain": [
       "      Channel        Date Anchor  Views  Comments\n",
       "6   WorldNews  2015-01-04  alice  490.0      54.0\n",
       "8   WorldNews  2015-01-05    bob  231.0      13.0\n",
       "10  WorldNews  2015-01-06   jenn  399.0      17.0\n",
       "12  WorldNews  2015-01-07   jenn  463.0      26.0\n",
       "14  WorldNews  2015-01-08    bob  479.0      27.0"
      ]
     },
     "execution_count": 29,
     "metadata": {},
     "output_type": "execute_result"
    }
   ],
   "source": [
    "Adf"
   ]
  },
  {
   "cell_type": "code",
   "execution_count": 30,
   "metadata": {
    "collapsed": false
   },
   "outputs": [
    {
     "data": {
      "text/html": [
       "<div>\n",
       "<table border=\"1\" class=\"dataframe\">\n",
       "  <thead>\n",
       "    <tr style=\"text-align: right;\">\n",
       "      <th></th>\n",
       "      <th>Channel</th>\n",
       "      <th>Date</th>\n",
       "      <th>Anchor</th>\n",
       "      <th>Views</th>\n",
       "      <th>Comments</th>\n",
       "    </tr>\n",
       "  </thead>\n",
       "  <tbody>\n",
       "    <tr>\n",
       "      <th>11</th>\n",
       "      <td>WorldWeather</td>\n",
       "      <td>2015-01-06</td>\n",
       "      <td>harry</td>\n",
       "      <td>293.0</td>\n",
       "      <td>9.0</td>\n",
       "    </tr>\n",
       "    <tr>\n",
       "      <th>13</th>\n",
       "      <td>WorldWeather</td>\n",
       "      <td>2015-01-07</td>\n",
       "      <td>emily</td>\n",
       "      <td>304.0</td>\n",
       "      <td>6.0</td>\n",
       "    </tr>\n",
       "    <tr>\n",
       "      <th>15</th>\n",
       "      <td>WorldWeather</td>\n",
       "      <td>2015-01-08</td>\n",
       "      <td>emily</td>\n",
       "      <td>470.0</td>\n",
       "      <td>10.0</td>\n",
       "    </tr>\n",
       "    <tr>\n",
       "      <th>17</th>\n",
       "      <td>WorldWeather</td>\n",
       "      <td>2015-01-09</td>\n",
       "      <td>tom</td>\n",
       "      <td>NaN</td>\n",
       "      <td>15.0</td>\n",
       "    </tr>\n",
       "    <tr>\n",
       "      <th>19</th>\n",
       "      <td>WorldWeather</td>\n",
       "      <td>2015-01-10</td>\n",
       "      <td>harry</td>\n",
       "      <td>337.0</td>\n",
       "      <td>4.0</td>\n",
       "    </tr>\n",
       "  </tbody>\n",
       "</table>\n",
       "</div>"
      ],
      "text/plain": [
       "         Channel        Date Anchor  Views  Comments\n",
       "11  WorldWeather  2015-01-06  harry  293.0       9.0\n",
       "13  WorldWeather  2015-01-07  emily  304.0       6.0\n",
       "15  WorldWeather  2015-01-08  emily  470.0      10.0\n",
       "17  WorldWeather  2015-01-09    tom    NaN      15.0\n",
       "19  WorldWeather  2015-01-10  harry  337.0       4.0"
      ]
     },
     "execution_count": 30,
     "metadata": {},
     "output_type": "execute_result"
    }
   ],
   "source": [
    "Bdf"
   ]
  },
  {
   "cell_type": "markdown",
   "metadata": {},
   "source": [
    "#### 6.1 Concat\n",
    "\n",
    "This function performs the concatenation operation along a given axis.\n",
    "\n",
    "*axis=0* means the operation will be performed along the *rows*, and for *axis=1* it will be along columns.\n",
    "\n",
    "By default, it's acted along *rows*, ie *axis=0*."
   ]
  },
  {
   "cell_type": "code",
   "execution_count": 31,
   "metadata": {
    "collapsed": false
   },
   "outputs": [
    {
     "data": {
      "text/html": [
       "<div>\n",
       "<table border=\"1\" class=\"dataframe\">\n",
       "  <thead>\n",
       "    <tr style=\"text-align: right;\">\n",
       "      <th></th>\n",
       "      <th>Channel</th>\n",
       "      <th>Date</th>\n",
       "      <th>Anchor</th>\n",
       "      <th>Views</th>\n",
       "      <th>Comments</th>\n",
       "    </tr>\n",
       "  </thead>\n",
       "  <tbody>\n",
       "    <tr>\n",
       "      <th>6</th>\n",
       "      <td>WorldNews</td>\n",
       "      <td>2015-01-04</td>\n",
       "      <td>alice</td>\n",
       "      <td>490.0</td>\n",
       "      <td>54.0</td>\n",
       "    </tr>\n",
       "    <tr>\n",
       "      <th>8</th>\n",
       "      <td>WorldNews</td>\n",
       "      <td>2015-01-05</td>\n",
       "      <td>bob</td>\n",
       "      <td>231.0</td>\n",
       "      <td>13.0</td>\n",
       "    </tr>\n",
       "    <tr>\n",
       "      <th>10</th>\n",
       "      <td>WorldNews</td>\n",
       "      <td>2015-01-06</td>\n",
       "      <td>jenn</td>\n",
       "      <td>399.0</td>\n",
       "      <td>17.0</td>\n",
       "    </tr>\n",
       "    <tr>\n",
       "      <th>12</th>\n",
       "      <td>WorldNews</td>\n",
       "      <td>2015-01-07</td>\n",
       "      <td>jenn</td>\n",
       "      <td>463.0</td>\n",
       "      <td>26.0</td>\n",
       "    </tr>\n",
       "    <tr>\n",
       "      <th>14</th>\n",
       "      <td>WorldNews</td>\n",
       "      <td>2015-01-08</td>\n",
       "      <td>bob</td>\n",
       "      <td>479.0</td>\n",
       "      <td>27.0</td>\n",
       "    </tr>\n",
       "    <tr>\n",
       "      <th>11</th>\n",
       "      <td>WorldWeather</td>\n",
       "      <td>2015-01-06</td>\n",
       "      <td>harry</td>\n",
       "      <td>293.0</td>\n",
       "      <td>9.0</td>\n",
       "    </tr>\n",
       "    <tr>\n",
       "      <th>13</th>\n",
       "      <td>WorldWeather</td>\n",
       "      <td>2015-01-07</td>\n",
       "      <td>emily</td>\n",
       "      <td>304.0</td>\n",
       "      <td>6.0</td>\n",
       "    </tr>\n",
       "    <tr>\n",
       "      <th>15</th>\n",
       "      <td>WorldWeather</td>\n",
       "      <td>2015-01-08</td>\n",
       "      <td>emily</td>\n",
       "      <td>470.0</td>\n",
       "      <td>10.0</td>\n",
       "    </tr>\n",
       "    <tr>\n",
       "      <th>17</th>\n",
       "      <td>WorldWeather</td>\n",
       "      <td>2015-01-09</td>\n",
       "      <td>tom</td>\n",
       "      <td>NaN</td>\n",
       "      <td>15.0</td>\n",
       "    </tr>\n",
       "    <tr>\n",
       "      <th>19</th>\n",
       "      <td>WorldWeather</td>\n",
       "      <td>2015-01-10</td>\n",
       "      <td>harry</td>\n",
       "      <td>337.0</td>\n",
       "      <td>4.0</td>\n",
       "    </tr>\n",
       "  </tbody>\n",
       "</table>\n",
       "</div>"
      ],
      "text/plain": [
       "         Channel        Date Anchor  Views  Comments\n",
       "6      WorldNews  2015-01-04  alice  490.0      54.0\n",
       "8      WorldNews  2015-01-05    bob  231.0      13.0\n",
       "10     WorldNews  2015-01-06   jenn  399.0      17.0\n",
       "12     WorldNews  2015-01-07   jenn  463.0      26.0\n",
       "14     WorldNews  2015-01-08    bob  479.0      27.0\n",
       "11  WorldWeather  2015-01-06  harry  293.0       9.0\n",
       "13  WorldWeather  2015-01-07  emily  304.0       6.0\n",
       "15  WorldWeather  2015-01-08  emily  470.0      10.0\n",
       "17  WorldWeather  2015-01-09    tom    NaN      15.0\n",
       "19  WorldWeather  2015-01-10  harry  337.0       4.0"
      ]
     },
     "execution_count": 31,
     "metadata": {},
     "output_type": "execute_result"
    }
   ],
   "source": [
    "pd.concat([Adf, Bdf])"
   ]
  },
  {
   "cell_type": "code",
   "execution_count": 32,
   "metadata": {
    "collapsed": false
   },
   "outputs": [
    {
     "data": {
      "text/html": [
       "<div>\n",
       "<table border=\"1\" class=\"dataframe\">\n",
       "  <thead>\n",
       "    <tr style=\"text-align: right;\">\n",
       "      <th></th>\n",
       "      <th>Channel</th>\n",
       "      <th>Date</th>\n",
       "      <th>Anchor</th>\n",
       "      <th>Views</th>\n",
       "      <th>Comments</th>\n",
       "      <th>Channel</th>\n",
       "      <th>Date</th>\n",
       "      <th>Anchor</th>\n",
       "      <th>Views</th>\n",
       "      <th>Comments</th>\n",
       "    </tr>\n",
       "  </thead>\n",
       "  <tbody>\n",
       "    <tr>\n",
       "      <th>6</th>\n",
       "      <td>WorldNews</td>\n",
       "      <td>2015-01-04</td>\n",
       "      <td>alice</td>\n",
       "      <td>490.0</td>\n",
       "      <td>54.0</td>\n",
       "      <td>NaN</td>\n",
       "      <td>NaN</td>\n",
       "      <td>NaN</td>\n",
       "      <td>NaN</td>\n",
       "      <td>NaN</td>\n",
       "    </tr>\n",
       "    <tr>\n",
       "      <th>8</th>\n",
       "      <td>WorldNews</td>\n",
       "      <td>2015-01-05</td>\n",
       "      <td>bob</td>\n",
       "      <td>231.0</td>\n",
       "      <td>13.0</td>\n",
       "      <td>NaN</td>\n",
       "      <td>NaN</td>\n",
       "      <td>NaN</td>\n",
       "      <td>NaN</td>\n",
       "      <td>NaN</td>\n",
       "    </tr>\n",
       "    <tr>\n",
       "      <th>10</th>\n",
       "      <td>WorldNews</td>\n",
       "      <td>2015-01-06</td>\n",
       "      <td>jenn</td>\n",
       "      <td>399.0</td>\n",
       "      <td>17.0</td>\n",
       "      <td>NaN</td>\n",
       "      <td>NaN</td>\n",
       "      <td>NaN</td>\n",
       "      <td>NaN</td>\n",
       "      <td>NaN</td>\n",
       "    </tr>\n",
       "    <tr>\n",
       "      <th>11</th>\n",
       "      <td>NaN</td>\n",
       "      <td>NaN</td>\n",
       "      <td>NaN</td>\n",
       "      <td>NaN</td>\n",
       "      <td>NaN</td>\n",
       "      <td>WorldWeather</td>\n",
       "      <td>2015-01-06</td>\n",
       "      <td>harry</td>\n",
       "      <td>293.0</td>\n",
       "      <td>9.0</td>\n",
       "    </tr>\n",
       "    <tr>\n",
       "      <th>12</th>\n",
       "      <td>WorldNews</td>\n",
       "      <td>2015-01-07</td>\n",
       "      <td>jenn</td>\n",
       "      <td>463.0</td>\n",
       "      <td>26.0</td>\n",
       "      <td>NaN</td>\n",
       "      <td>NaN</td>\n",
       "      <td>NaN</td>\n",
       "      <td>NaN</td>\n",
       "      <td>NaN</td>\n",
       "    </tr>\n",
       "    <tr>\n",
       "      <th>13</th>\n",
       "      <td>NaN</td>\n",
       "      <td>NaN</td>\n",
       "      <td>NaN</td>\n",
       "      <td>NaN</td>\n",
       "      <td>NaN</td>\n",
       "      <td>WorldWeather</td>\n",
       "      <td>2015-01-07</td>\n",
       "      <td>emily</td>\n",
       "      <td>304.0</td>\n",
       "      <td>6.0</td>\n",
       "    </tr>\n",
       "    <tr>\n",
       "      <th>14</th>\n",
       "      <td>WorldNews</td>\n",
       "      <td>2015-01-08</td>\n",
       "      <td>bob</td>\n",
       "      <td>479.0</td>\n",
       "      <td>27.0</td>\n",
       "      <td>NaN</td>\n",
       "      <td>NaN</td>\n",
       "      <td>NaN</td>\n",
       "      <td>NaN</td>\n",
       "      <td>NaN</td>\n",
       "    </tr>\n",
       "    <tr>\n",
       "      <th>15</th>\n",
       "      <td>NaN</td>\n",
       "      <td>NaN</td>\n",
       "      <td>NaN</td>\n",
       "      <td>NaN</td>\n",
       "      <td>NaN</td>\n",
       "      <td>WorldWeather</td>\n",
       "      <td>2015-01-08</td>\n",
       "      <td>emily</td>\n",
       "      <td>470.0</td>\n",
       "      <td>10.0</td>\n",
       "    </tr>\n",
       "    <tr>\n",
       "      <th>17</th>\n",
       "      <td>NaN</td>\n",
       "      <td>NaN</td>\n",
       "      <td>NaN</td>\n",
       "      <td>NaN</td>\n",
       "      <td>NaN</td>\n",
       "      <td>WorldWeather</td>\n",
       "      <td>2015-01-09</td>\n",
       "      <td>tom</td>\n",
       "      <td>NaN</td>\n",
       "      <td>15.0</td>\n",
       "    </tr>\n",
       "    <tr>\n",
       "      <th>19</th>\n",
       "      <td>NaN</td>\n",
       "      <td>NaN</td>\n",
       "      <td>NaN</td>\n",
       "      <td>NaN</td>\n",
       "      <td>NaN</td>\n",
       "      <td>WorldWeather</td>\n",
       "      <td>2015-01-10</td>\n",
       "      <td>harry</td>\n",
       "      <td>337.0</td>\n",
       "      <td>4.0</td>\n",
       "    </tr>\n",
       "  </tbody>\n",
       "</table>\n",
       "</div>"
      ],
      "text/plain": [
       "      Channel        Date Anchor  Views  Comments       Channel        Date  \\\n",
       "6   WorldNews  2015-01-04  alice  490.0      54.0           NaN         NaN   \n",
       "8   WorldNews  2015-01-05    bob  231.0      13.0           NaN         NaN   \n",
       "10  WorldNews  2015-01-06   jenn  399.0      17.0           NaN         NaN   \n",
       "11        NaN         NaN    NaN    NaN       NaN  WorldWeather  2015-01-06   \n",
       "12  WorldNews  2015-01-07   jenn  463.0      26.0           NaN         NaN   \n",
       "13        NaN         NaN    NaN    NaN       NaN  WorldWeather  2015-01-07   \n",
       "14  WorldNews  2015-01-08    bob  479.0      27.0           NaN         NaN   \n",
       "15        NaN         NaN    NaN    NaN       NaN  WorldWeather  2015-01-08   \n",
       "17        NaN         NaN    NaN    NaN       NaN  WorldWeather  2015-01-09   \n",
       "19        NaN         NaN    NaN    NaN       NaN  WorldWeather  2015-01-10   \n",
       "\n",
       "   Anchor  Views  Comments  \n",
       "6     NaN    NaN       NaN  \n",
       "8     NaN    NaN       NaN  \n",
       "10    NaN    NaN       NaN  \n",
       "11  harry  293.0       9.0  \n",
       "12    NaN    NaN       NaN  \n",
       "13  emily  304.0       6.0  \n",
       "14    NaN    NaN       NaN  \n",
       "15  emily  470.0      10.0  \n",
       "17    tom    NaN      15.0  \n",
       "19  harry  337.0       4.0  "
      ]
     },
     "execution_count": 32,
     "metadata": {},
     "output_type": "execute_result"
    }
   ],
   "source": [
    "pd.concat([Adf, Bdf], axis=1)"
   ]
  },
  {
   "cell_type": "markdown",
   "metadata": {},
   "source": [
    "#### 6.2 Join\n",
    "\n",
    "Pandas provides a single function, **merge**, for all standard join operations between DataFrame objects.\n",
    "\n",
    "We will look the basic arguments for this function.\n",
    "\n",
    "```python\n",
    "merge(left, right, how='inner', on=None)\n",
    "```\n",
    "\n",
    "* **left** - A DataFrame object\n",
    "* **right** - Another DataFrame to combine with.\n",
    "* **how** - Type of join operation, defaults to *inner*. Can be one of *left*, *right*, *inner*, and *outer*.\n",
    "* **on** - Columns names on which the join operation will be performed. Must be available in both the left and right DataFrame."
   ]
  },
  {
   "cell_type": "markdown",
   "metadata": {},
   "source": [
    "##### 6.1 Inner Join\n",
    "\n",
    "By default, **join** operates like the **inner join** of SQL.\n",
    "\n",
    "Here, we are performing the join on the 'Date' column.\n",
    "\n",
    "Uses intersection of keys from both the DataFrames."
   ]
  },
  {
   "cell_type": "markdown",
   "metadata": {},
   "source": [
    "We will get 3 rows because in the 'Date' columns there are only three matches."
   ]
  },
  {
   "cell_type": "code",
   "execution_count": 33,
   "metadata": {
    "collapsed": false,
    "scrolled": true
   },
   "outputs": [
    {
     "data": {
      "text/html": [
       "<div>\n",
       "<table border=\"1\" class=\"dataframe\">\n",
       "  <thead>\n",
       "    <tr style=\"text-align: right;\">\n",
       "      <th></th>\n",
       "      <th>Channel_x</th>\n",
       "      <th>Date</th>\n",
       "      <th>Anchor_x</th>\n",
       "      <th>Views_x</th>\n",
       "      <th>Comments_x</th>\n",
       "      <th>Channel_y</th>\n",
       "      <th>Anchor_y</th>\n",
       "      <th>Views_y</th>\n",
       "      <th>Comments_y</th>\n",
       "    </tr>\n",
       "  </thead>\n",
       "  <tbody>\n",
       "    <tr>\n",
       "      <th>0</th>\n",
       "      <td>WorldNews</td>\n",
       "      <td>2015-01-06</td>\n",
       "      <td>jenn</td>\n",
       "      <td>399.0</td>\n",
       "      <td>17.0</td>\n",
       "      <td>WorldWeather</td>\n",
       "      <td>harry</td>\n",
       "      <td>293.0</td>\n",
       "      <td>9.0</td>\n",
       "    </tr>\n",
       "    <tr>\n",
       "      <th>1</th>\n",
       "      <td>WorldNews</td>\n",
       "      <td>2015-01-07</td>\n",
       "      <td>jenn</td>\n",
       "      <td>463.0</td>\n",
       "      <td>26.0</td>\n",
       "      <td>WorldWeather</td>\n",
       "      <td>emily</td>\n",
       "      <td>304.0</td>\n",
       "      <td>6.0</td>\n",
       "    </tr>\n",
       "    <tr>\n",
       "      <th>2</th>\n",
       "      <td>WorldNews</td>\n",
       "      <td>2015-01-08</td>\n",
       "      <td>bob</td>\n",
       "      <td>479.0</td>\n",
       "      <td>27.0</td>\n",
       "      <td>WorldWeather</td>\n",
       "      <td>emily</td>\n",
       "      <td>470.0</td>\n",
       "      <td>10.0</td>\n",
       "    </tr>\n",
       "  </tbody>\n",
       "</table>\n",
       "</div>"
      ],
      "text/plain": [
       "   Channel_x        Date Anchor_x  Views_x  Comments_x     Channel_y Anchor_y  \\\n",
       "0  WorldNews  2015-01-06     jenn    399.0        17.0  WorldWeather    harry   \n",
       "1  WorldNews  2015-01-07     jenn    463.0        26.0  WorldWeather    emily   \n",
       "2  WorldNews  2015-01-08      bob    479.0        27.0  WorldWeather    emily   \n",
       "\n",
       "   Views_y  Comments_y  \n",
       "0    293.0         9.0  \n",
       "1    304.0         6.0  \n",
       "2    470.0        10.0  "
      ]
     },
     "execution_count": 33,
     "metadata": {},
     "output_type": "execute_result"
    }
   ],
   "source": [
    "pd.merge(Adf, Bdf, on='Date')"
   ]
  },
  {
   "cell_type": "markdown",
   "metadata": {},
   "source": [
    "##### 6.2 Left Outer Join\n",
    "\n",
    "Uses the keys from left DataFrame only.\n",
    "\n",
    "```python\n",
    "how='left'\n",
    "```"
   ]
  },
  {
   "cell_type": "markdown",
   "metadata": {},
   "source": [
    "We can see that for the 'Date' values '2015-01-04' and '2015-01-05', there is not any corresponding matches **(NaN)** in the right DataFrame.\n",
    "\n",
    "Because these rows are not present in the right DataFrame, **Bdf**."
   ]
  },
  {
   "cell_type": "code",
   "execution_count": 34,
   "metadata": {
    "collapsed": false
   },
   "outputs": [
    {
     "data": {
      "text/html": [
       "<div>\n",
       "<table border=\"1\" class=\"dataframe\">\n",
       "  <thead>\n",
       "    <tr style=\"text-align: right;\">\n",
       "      <th></th>\n",
       "      <th>Channel_x</th>\n",
       "      <th>Date</th>\n",
       "      <th>Anchor_x</th>\n",
       "      <th>Views_x</th>\n",
       "      <th>Comments_x</th>\n",
       "      <th>Channel_y</th>\n",
       "      <th>Anchor_y</th>\n",
       "      <th>Views_y</th>\n",
       "      <th>Comments_y</th>\n",
       "    </tr>\n",
       "  </thead>\n",
       "  <tbody>\n",
       "    <tr>\n",
       "      <th>0</th>\n",
       "      <td>WorldNews</td>\n",
       "      <td>2015-01-04</td>\n",
       "      <td>alice</td>\n",
       "      <td>490.0</td>\n",
       "      <td>54.0</td>\n",
       "      <td>NaN</td>\n",
       "      <td>NaN</td>\n",
       "      <td>NaN</td>\n",
       "      <td>NaN</td>\n",
       "    </tr>\n",
       "    <tr>\n",
       "      <th>1</th>\n",
       "      <td>WorldNews</td>\n",
       "      <td>2015-01-05</td>\n",
       "      <td>bob</td>\n",
       "      <td>231.0</td>\n",
       "      <td>13.0</td>\n",
       "      <td>NaN</td>\n",
       "      <td>NaN</td>\n",
       "      <td>NaN</td>\n",
       "      <td>NaN</td>\n",
       "    </tr>\n",
       "    <tr>\n",
       "      <th>2</th>\n",
       "      <td>WorldNews</td>\n",
       "      <td>2015-01-06</td>\n",
       "      <td>jenn</td>\n",
       "      <td>399.0</td>\n",
       "      <td>17.0</td>\n",
       "      <td>WorldWeather</td>\n",
       "      <td>harry</td>\n",
       "      <td>293.0</td>\n",
       "      <td>9.0</td>\n",
       "    </tr>\n",
       "    <tr>\n",
       "      <th>3</th>\n",
       "      <td>WorldNews</td>\n",
       "      <td>2015-01-07</td>\n",
       "      <td>jenn</td>\n",
       "      <td>463.0</td>\n",
       "      <td>26.0</td>\n",
       "      <td>WorldWeather</td>\n",
       "      <td>emily</td>\n",
       "      <td>304.0</td>\n",
       "      <td>6.0</td>\n",
       "    </tr>\n",
       "    <tr>\n",
       "      <th>4</th>\n",
       "      <td>WorldNews</td>\n",
       "      <td>2015-01-08</td>\n",
       "      <td>bob</td>\n",
       "      <td>479.0</td>\n",
       "      <td>27.0</td>\n",
       "      <td>WorldWeather</td>\n",
       "      <td>emily</td>\n",
       "      <td>470.0</td>\n",
       "      <td>10.0</td>\n",
       "    </tr>\n",
       "  </tbody>\n",
       "</table>\n",
       "</div>"
      ],
      "text/plain": [
       "   Channel_x        Date Anchor_x  Views_x  Comments_x     Channel_y Anchor_y  \\\n",
       "0  WorldNews  2015-01-04    alice    490.0        54.0           NaN      NaN   \n",
       "1  WorldNews  2015-01-05      bob    231.0        13.0           NaN      NaN   \n",
       "2  WorldNews  2015-01-06     jenn    399.0        17.0  WorldWeather    harry   \n",
       "3  WorldNews  2015-01-07     jenn    463.0        26.0  WorldWeather    emily   \n",
       "4  WorldNews  2015-01-08      bob    479.0        27.0  WorldWeather    emily   \n",
       "\n",
       "   Views_y  Comments_y  \n",
       "0      NaN         NaN  \n",
       "1      NaN         NaN  \n",
       "2    293.0         9.0  \n",
       "3    304.0         6.0  \n",
       "4    470.0        10.0  "
      ]
     },
     "execution_count": 34,
     "metadata": {},
     "output_type": "execute_result"
    }
   ],
   "source": [
    "pd.merge(Adf, Bdf, how='left', on='Date')"
   ]
  },
  {
   "cell_type": "markdown",
   "metadata": {},
   "source": [
    "##### 6.3 Right Outer Join\n",
    "\n",
    "Uses the keys from right DataFrame only.\n",
    "\n",
    "```python\n",
    "how='right'\n",
    "```"
   ]
  },
  {
   "cell_type": "code",
   "execution_count": 35,
   "metadata": {
    "collapsed": false,
    "scrolled": true
   },
   "outputs": [
    {
     "data": {
      "text/html": [
       "<div>\n",
       "<table border=\"1\" class=\"dataframe\">\n",
       "  <thead>\n",
       "    <tr style=\"text-align: right;\">\n",
       "      <th></th>\n",
       "      <th>Channel_x</th>\n",
       "      <th>Date</th>\n",
       "      <th>Anchor_x</th>\n",
       "      <th>Views_x</th>\n",
       "      <th>Comments_x</th>\n",
       "      <th>Channel_y</th>\n",
       "      <th>Anchor_y</th>\n",
       "      <th>Views_y</th>\n",
       "      <th>Comments_y</th>\n",
       "    </tr>\n",
       "  </thead>\n",
       "  <tbody>\n",
       "    <tr>\n",
       "      <th>0</th>\n",
       "      <td>WorldNews</td>\n",
       "      <td>2015-01-06</td>\n",
       "      <td>jenn</td>\n",
       "      <td>399.0</td>\n",
       "      <td>17.0</td>\n",
       "      <td>WorldWeather</td>\n",
       "      <td>harry</td>\n",
       "      <td>293.0</td>\n",
       "      <td>9.0</td>\n",
       "    </tr>\n",
       "    <tr>\n",
       "      <th>1</th>\n",
       "      <td>WorldNews</td>\n",
       "      <td>2015-01-07</td>\n",
       "      <td>jenn</td>\n",
       "      <td>463.0</td>\n",
       "      <td>26.0</td>\n",
       "      <td>WorldWeather</td>\n",
       "      <td>emily</td>\n",
       "      <td>304.0</td>\n",
       "      <td>6.0</td>\n",
       "    </tr>\n",
       "    <tr>\n",
       "      <th>2</th>\n",
       "      <td>WorldNews</td>\n",
       "      <td>2015-01-08</td>\n",
       "      <td>bob</td>\n",
       "      <td>479.0</td>\n",
       "      <td>27.0</td>\n",
       "      <td>WorldWeather</td>\n",
       "      <td>emily</td>\n",
       "      <td>470.0</td>\n",
       "      <td>10.0</td>\n",
       "    </tr>\n",
       "    <tr>\n",
       "      <th>3</th>\n",
       "      <td>NaN</td>\n",
       "      <td>2015-01-09</td>\n",
       "      <td>NaN</td>\n",
       "      <td>NaN</td>\n",
       "      <td>NaN</td>\n",
       "      <td>WorldWeather</td>\n",
       "      <td>tom</td>\n",
       "      <td>NaN</td>\n",
       "      <td>15.0</td>\n",
       "    </tr>\n",
       "    <tr>\n",
       "      <th>4</th>\n",
       "      <td>NaN</td>\n",
       "      <td>2015-01-10</td>\n",
       "      <td>NaN</td>\n",
       "      <td>NaN</td>\n",
       "      <td>NaN</td>\n",
       "      <td>WorldWeather</td>\n",
       "      <td>harry</td>\n",
       "      <td>337.0</td>\n",
       "      <td>4.0</td>\n",
       "    </tr>\n",
       "  </tbody>\n",
       "</table>\n",
       "</div>"
      ],
      "text/plain": [
       "   Channel_x        Date Anchor_x  Views_x  Comments_x     Channel_y Anchor_y  \\\n",
       "0  WorldNews  2015-01-06     jenn    399.0        17.0  WorldWeather    harry   \n",
       "1  WorldNews  2015-01-07     jenn    463.0        26.0  WorldWeather    emily   \n",
       "2  WorldNews  2015-01-08      bob    479.0        27.0  WorldWeather    emily   \n",
       "3        NaN  2015-01-09      NaN      NaN         NaN  WorldWeather      tom   \n",
       "4        NaN  2015-01-10      NaN      NaN         NaN  WorldWeather    harry   \n",
       "\n",
       "   Views_y  Comments_y  \n",
       "0    293.0         9.0  \n",
       "1    304.0         6.0  \n",
       "2    470.0        10.0  \n",
       "3      NaN        15.0  \n",
       "4    337.0         4.0  "
      ]
     },
     "execution_count": 35,
     "metadata": {},
     "output_type": "execute_result"
    }
   ],
   "source": [
    "pd.merge(Adf, Bdf, how='right', on='Date')"
   ]
  },
  {
   "cell_type": "markdown",
   "metadata": {},
   "source": [
    "##### 6.3 Full Outer Join\n",
    "\n",
    "Uses the intersection of keys from both DataFrames.\n",
    "\n",
    "```python\n",
    "how='outer'\n",
    "```"
   ]
  },
  {
   "cell_type": "code",
   "execution_count": 36,
   "metadata": {
    "collapsed": false
   },
   "outputs": [
    {
     "data": {
      "text/html": [
       "<div>\n",
       "<table border=\"1\" class=\"dataframe\">\n",
       "  <thead>\n",
       "    <tr style=\"text-align: right;\">\n",
       "      <th></th>\n",
       "      <th>Channel_x</th>\n",
       "      <th>Date</th>\n",
       "      <th>Anchor_x</th>\n",
       "      <th>Views_x</th>\n",
       "      <th>Comments_x</th>\n",
       "      <th>Channel_y</th>\n",
       "      <th>Anchor_y</th>\n",
       "      <th>Views_y</th>\n",
       "      <th>Comments_y</th>\n",
       "    </tr>\n",
       "  </thead>\n",
       "  <tbody>\n",
       "    <tr>\n",
       "      <th>0</th>\n",
       "      <td>WorldNews</td>\n",
       "      <td>2015-01-04</td>\n",
       "      <td>alice</td>\n",
       "      <td>490.0</td>\n",
       "      <td>54.0</td>\n",
       "      <td>NaN</td>\n",
       "      <td>NaN</td>\n",
       "      <td>NaN</td>\n",
       "      <td>NaN</td>\n",
       "    </tr>\n",
       "    <tr>\n",
       "      <th>1</th>\n",
       "      <td>WorldNews</td>\n",
       "      <td>2015-01-05</td>\n",
       "      <td>bob</td>\n",
       "      <td>231.0</td>\n",
       "      <td>13.0</td>\n",
       "      <td>NaN</td>\n",
       "      <td>NaN</td>\n",
       "      <td>NaN</td>\n",
       "      <td>NaN</td>\n",
       "    </tr>\n",
       "    <tr>\n",
       "      <th>2</th>\n",
       "      <td>WorldNews</td>\n",
       "      <td>2015-01-06</td>\n",
       "      <td>jenn</td>\n",
       "      <td>399.0</td>\n",
       "      <td>17.0</td>\n",
       "      <td>WorldWeather</td>\n",
       "      <td>harry</td>\n",
       "      <td>293.0</td>\n",
       "      <td>9.0</td>\n",
       "    </tr>\n",
       "    <tr>\n",
       "      <th>3</th>\n",
       "      <td>WorldNews</td>\n",
       "      <td>2015-01-07</td>\n",
       "      <td>jenn</td>\n",
       "      <td>463.0</td>\n",
       "      <td>26.0</td>\n",
       "      <td>WorldWeather</td>\n",
       "      <td>emily</td>\n",
       "      <td>304.0</td>\n",
       "      <td>6.0</td>\n",
       "    </tr>\n",
       "    <tr>\n",
       "      <th>4</th>\n",
       "      <td>WorldNews</td>\n",
       "      <td>2015-01-08</td>\n",
       "      <td>bob</td>\n",
       "      <td>479.0</td>\n",
       "      <td>27.0</td>\n",
       "      <td>WorldWeather</td>\n",
       "      <td>emily</td>\n",
       "      <td>470.0</td>\n",
       "      <td>10.0</td>\n",
       "    </tr>\n",
       "    <tr>\n",
       "      <th>5</th>\n",
       "      <td>NaN</td>\n",
       "      <td>2015-01-09</td>\n",
       "      <td>NaN</td>\n",
       "      <td>NaN</td>\n",
       "      <td>NaN</td>\n",
       "      <td>WorldWeather</td>\n",
       "      <td>tom</td>\n",
       "      <td>NaN</td>\n",
       "      <td>15.0</td>\n",
       "    </tr>\n",
       "    <tr>\n",
       "      <th>6</th>\n",
       "      <td>NaN</td>\n",
       "      <td>2015-01-10</td>\n",
       "      <td>NaN</td>\n",
       "      <td>NaN</td>\n",
       "      <td>NaN</td>\n",
       "      <td>WorldWeather</td>\n",
       "      <td>harry</td>\n",
       "      <td>337.0</td>\n",
       "      <td>4.0</td>\n",
       "    </tr>\n",
       "  </tbody>\n",
       "</table>\n",
       "</div>"
      ],
      "text/plain": [
       "   Channel_x        Date Anchor_x  Views_x  Comments_x     Channel_y Anchor_y  \\\n",
       "0  WorldNews  2015-01-04    alice    490.0        54.0           NaN      NaN   \n",
       "1  WorldNews  2015-01-05      bob    231.0        13.0           NaN      NaN   \n",
       "2  WorldNews  2015-01-06     jenn    399.0        17.0  WorldWeather    harry   \n",
       "3  WorldNews  2015-01-07     jenn    463.0        26.0  WorldWeather    emily   \n",
       "4  WorldNews  2015-01-08      bob    479.0        27.0  WorldWeather    emily   \n",
       "5        NaN  2015-01-09      NaN      NaN         NaN  WorldWeather      tom   \n",
       "6        NaN  2015-01-10      NaN      NaN         NaN  WorldWeather    harry   \n",
       "\n",
       "   Views_y  Comments_y  \n",
       "0      NaN         NaN  \n",
       "1      NaN         NaN  \n",
       "2    293.0         9.0  \n",
       "3    304.0         6.0  \n",
       "4    470.0        10.0  \n",
       "5      NaN        15.0  \n",
       "6    337.0         4.0  "
      ]
     },
     "execution_count": 36,
     "metadata": {},
     "output_type": "execute_result"
    }
   ],
   "source": [
    "pd.merge(Adf, Bdf, how='outer', on='Date')"
   ]
  },
  {
   "cell_type": "markdown",
   "metadata": {},
   "source": [
    "### 7. Cleaning Data: Dates, Strings, and Formatting"
   ]
  },
  {
   "cell_type": "markdown",
   "metadata": {},
   "source": [
    "We want our data to be in the cleanest form, so that we can use it further.\n",
    "\n",
    "For this, we need to get it in the desired structure, that's called cleaning the data."
   ]
  },
  {
   "cell_type": "markdown",
   "metadata": {},
   "source": [
    "#### 7.1 Numerical Formatting"
   ]
  },
  {
   "cell_type": "markdown",
   "metadata": {},
   "source": [
    "Remember the interpolated DataFrame result? You can notice that the resultant values are **Float64** type.\n",
    "\n",
    "Some of the values are like 11.5, 7.5 etc."
   ]
  },
  {
   "cell_type": "code",
   "execution_count": 37,
   "metadata": {
    "collapsed": false
   },
   "outputs": [
    {
     "data": {
      "text/plain": [
       "numpy.float64"
      ]
     },
     "execution_count": 37,
     "metadata": {},
     "output_type": "execute_result"
    }
   ],
   "source": [
    "type(worldnews_interpolated_df['Comments'][0])"
   ]
  },
  {
   "cell_type": "markdown",
   "metadata": {},
   "source": [
    "As we know that 'Views' or 'Comments' should be a perfect number by definition."
   ]
  },
  {
   "cell_type": "markdown",
   "metadata": {},
   "source": [
    "We can format this by applying the **ceil** function on the 'Comments' column."
   ]
  },
  {
   "cell_type": "code",
   "execution_count": 38,
   "metadata": {
    "collapsed": true
   },
   "outputs": [],
   "source": [
    "worldnews_interpolated_df['Comments'] = worldnews_interpolated_df['Comments'].apply(np.ceil)"
   ]
  },
  {
   "cell_type": "markdown",
   "metadata": {},
   "source": [
    "That will map a number to the smallest integer greater than or equal to it."
   ]
  },
  {
   "cell_type": "markdown",
   "metadata": {},
   "source": [
    "#### 7.2 Dates Formatting"
   ]
  },
  {
   "cell_type": "markdown",
   "metadata": {},
   "source": [
    "We can see that the Series objects in the column 'Date' are 'str' types."
   ]
  },
  {
   "cell_type": "code",
   "execution_count": 39,
   "metadata": {
    "collapsed": false
   },
   "outputs": [
    {
     "data": {
      "text/plain": [
       "str"
      ]
     },
     "execution_count": 39,
     "metadata": {},
     "output_type": "execute_result"
    }
   ],
   "source": [
    "type(worldnews_df['Date'][0])"
   ]
  },
  {
   "cell_type": "markdown",
   "metadata": {},
   "source": [
    "We can use the **to_datetime** function to convert them into 'Timestamp' type.\n",
    "\n",
    "The 'format' argument can be used to define the format of date in the 'Series', '2015-01-01' matches with '%Y-%m-%d'.\n",
    "\n",
    "This can be used to timestamp related calculations."
   ]
  },
  {
   "cell_type": "code",
   "execution_count": 48,
   "metadata": {
    "collapsed": false,
    "scrolled": true
   },
   "outputs": [],
   "source": [
    "worldnews_df.loc[:, 'Date'] = pd.to_datetime(worldnews_df['Date'], format=\"%Y-%m-%d\")"
   ]
  },
  {
   "cell_type": "code",
   "execution_count": 41,
   "metadata": {
    "collapsed": false,
    "scrolled": true
   },
   "outputs": [
    {
     "data": {
      "text/plain": [
       "pandas.tslib.Timestamp"
      ]
     },
     "execution_count": 41,
     "metadata": {},
     "output_type": "execute_result"
    }
   ],
   "source": [
    "type(worldnews_df['Date'][0])"
   ]
  },
  {
   "cell_type": "markdown",
   "metadata": {},
   "source": [
    "Pandas also provides functinoality equivalent to \"datetime.timedelta\", which is called \"Timedelta\"."
   ]
  },
  {
   "cell_type": "code",
   "execution_count": 42,
   "metadata": {
    "collapsed": false
   },
   "outputs": [
    {
     "data": {
      "text/plain": [
       "pandas.tslib.Timedelta"
      ]
     },
     "execution_count": 42,
     "metadata": {},
     "output_type": "execute_result"
    }
   ],
   "source": [
    "time_a = worldnews_df['Date'][0]\n",
    "time_b = worldnews_df['Date'][2]\n",
    "\n",
    "time_diff = time_b - time_a\n",
    "type(time_diff)"
   ]
  },
  {
   "cell_type": "markdown",
   "metadata": {},
   "source": [
    "We can collect different components of \"Timedelta\" object like \"days\", \"hours\", \"minutes\" etc."
   ]
  },
  {
   "cell_type": "code",
   "execution_count": 43,
   "metadata": {
    "collapsed": false
   },
   "outputs": [
    {
     "data": {
      "text/plain": [
       "Components(days=1, hours=0, minutes=0, seconds=0, milliseconds=0, microseconds=0, nanoseconds=0)"
      ]
     },
     "execution_count": 43,
     "metadata": {},
     "output_type": "execute_result"
    }
   ],
   "source": [
    "time_diff.components"
   ]
  },
  {
   "cell_type": "markdown",
   "metadata": {
    "collapsed": true
   },
   "source": [
    "#### 7.3 String Formatting"
   ]
  },
  {
   "cell_type": "markdown",
   "metadata": {},
   "source": [
    "Pandas provide you a lot of [string formatting](http://pandas.pydata.org/pandas-docs/stable/api.html#string-handling) methods."
   ]
  },
  {
   "cell_type": "markdown",
   "metadata": {},
   "source": [
    "You can count the occurence of a particular pattern in a column."
   ]
  },
  {
   "cell_type": "code",
   "execution_count": 44,
   "metadata": {
    "collapsed": false
   },
   "outputs": [
    {
     "data": {
      "text/plain": [
       "57"
      ]
     },
     "execution_count": 44,
     "metadata": {},
     "output_type": "execute_result"
    }
   ],
   "source": [
    "worldnews_df['Anchor'].str.count('jenn').sum()"
   ]
  },
  {
   "cell_type": "markdown",
   "metadata": {},
   "source": [
    "Using the **unique** method you can check that different values in a column."
   ]
  },
  {
   "cell_type": "markdown",
   "metadata": {},
   "source": [
    "You can observe that the name of 'Anchor' is in smallcase."
   ]
  },
  {
   "cell_type": "code",
   "execution_count": 45,
   "metadata": {
    "collapsed": false
   },
   "outputs": [
    {
     "data": {
      "text/plain": [
       "array(['bob', 'alice', 'jenn'], dtype=object)"
      ]
     },
     "execution_count": 45,
     "metadata": {},
     "output_type": "execute_result"
    }
   ],
   "source": [
    "worldnews_df['Anchor'].unique()"
   ]
  },
  {
   "cell_type": "markdown",
   "metadata": {},
   "source": [
    "Using the **capitalize** method, we can format the string values. There are other methods such as **upper**, **lower** etc."
   ]
  },
  {
   "cell_type": "code",
   "execution_count": 46,
   "metadata": {
    "collapsed": false
   },
   "outputs": [
    {
     "data": {
      "text/plain": [
       "array(['Bob', 'Alice', 'Jenn'], dtype=object)"
      ]
     },
     "execution_count": 46,
     "metadata": {},
     "output_type": "execute_result"
    }
   ],
   "source": [
    "worldnews_df['Anchor'].str.capitalize().unique()"
   ]
  },
  {
   "cell_type": "markdown",
   "metadata": {},
   "source": [
    "Now suppose that there was a problem in data collection, the name of an anchor was \"Matt\" instead of \"Bob\"."
   ]
  },
  {
   "cell_type": "markdown",
   "metadata": {},
   "source": [
    "We do have a method for this situation too, **replace**. Taking arguments as the \"pattern\" and \"expected replacing string\"."
   ]
  },
  {
   "cell_type": "code",
   "execution_count": 47,
   "metadata": {
    "collapsed": false
   },
   "outputs": [
    {
     "data": {
      "text/plain": [
       "array(['matt', 'alice', 'jenn'], dtype=object)"
      ]
     },
     "execution_count": 47,
     "metadata": {},
     "output_type": "execute_result"
    }
   ],
   "source": [
    "worldnews_df['Anchor'].apply(lambda s: s.replace('bob', 'matt')).unique()"
   ]
  },
  {
   "cell_type": "code",
   "execution_count": null,
   "metadata": {
    "collapsed": true
   },
   "outputs": [],
   "source": []
  }
 ],
 "metadata": {
  "kernelspec": {
   "display_name": "Python 2",
   "language": "python",
   "name": "python2"
  },
  "language_info": {
   "codemirror_mode": {
    "name": "ipython",
    "version": 2
   },
   "file_extension": ".py",
   "mimetype": "text/x-python",
   "name": "python",
   "nbconvert_exporter": "python",
   "pygments_lexer": "ipython2",
   "version": "2.7.6"
  }
 },
 "nbformat": 4,
 "nbformat_minor": 0
}
